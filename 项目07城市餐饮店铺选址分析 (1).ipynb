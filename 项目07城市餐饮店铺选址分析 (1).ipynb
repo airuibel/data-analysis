{
 "cells": [
  {
   "cell_type": "code",
   "execution_count": null,
   "metadata": {
    "collapsed": true
   },
   "outputs": [],
   "source": [
    "'''\n",
    "【项目07】  城市餐饮店铺选址分析\n",
    "\n",
    "1、从三个维度“口味”、“人均消费”、“性价比”对不同菜系进行比较，并筛选出可开店铺的餐饮类型\n",
    "要求：\n",
    "① 计算出三个维度的指标得分\n",
    "② 评价方法：\n",
    "   口味 → 得分越高越好\n",
    "   性价比 → 得分越高越好\n",
    "   人均消费 → 价格适中即可\n",
    "③ 制作散点图，x轴为“人均消费”，y轴为“性价比得分”，点的大小为“口味得分”\n",
    "   绘制柱状图，分别显示“口味得分”、“性价比得分”\n",
    "   * 建议用bokeh做图\n",
    "提示：\n",
    "① 数据清洗，清除空值、为0的数据\n",
    "② 口味指标计算方法 → 口味评分字段，按照餐饮类别分组算均值，再做标准化处理\n",
    "③ 人均消费指标计算方法 → 人均消费字段，按照餐饮类别分组算均值，再做标准化处理\n",
    "④ 性价比指标计算方法 → 性价比 = （口味 + 环境 + 服务）/人均消费，按照餐饮类别分组算均值，再做标准化处理\n",
    "⑤ 数据计算之前，检查一下数据分布，去除异常值（以外限为标准）\n",
    "   * 这里排除了高端奢侈餐饮的数据干扰\n",
    "⑥ 注意，这里先分别计算三个指标，再合并数据（merge）作图，目的是指标之间的噪音数据不相互影响\n",
    "\n",
    "2、选择一个餐饮类型，在qgis中做将上海划分成格网空间，结合python辅助做空间指标评价，得到餐饮选址位置\n",
    "* 课程这里以“素菜馆为例”\n",
    "课程数据\n",
    "① net_population.shp → 投影坐标系，上海1km²格网内的人口密度数据\n",
    "② road.shp → 投影坐标西，上海道路数据\n",
    "要求：\n",
    "① 通过空间分析，分别计算每个格网内的几个指标：人口密度指标、道路密度指标、餐饮热度指标、同类竞品指标\n",
    "② 评价方法：\n",
    "   人口密度指标 → 得分越高越好\n",
    "   道路密度指标 → 得分越高越好\n",
    "   餐饮热度指标 → 得分越高越好\n",
    "   同类竞品指标 → 得分越低越好\n",
    "   综合指标 = 人口密度指标*0.4 + 餐饮热度指标*0.3 + 道路密度指标*0.2 +同类竞品指标*0.1\n",
    "③ 最后得到较好选址的网格位置的中心坐标，以及所属区域\n",
    "   * 可以用bokeh制作散点图\n",
    "提示：\n",
    "① 道路密度指标计算方法 → 网格内道路长度\n",
    "② 餐饮热度指标计算方法 → 网格内餐饮poi计数\n",
    "③ 同类竞品指标计算方法 → 网格内素菜馆poi计数\n",
    "④ 餐饮poi数据记得投影\n",
    "⑤ 可以以“net_population.shp”为网格基础数据，做空间统计\n",
    "⑥ 在qgis做空间统计之后，网格数据导出点数据，投影成wgs84地理坐标系，导出excel数据，在python做指标标准化等\n",
    "⑦ 在bokeh中做散点图时，注意添加一个size字段，通过最终评分来赋值\n",
    "⑧ 在bokeh中做散点图时，可以给TOP10的点用颜色区分\n",
    "\n",
    "'''"
   ]
  },
  {
   "cell_type": "code",
   "execution_count": 81,
   "metadata": {
    "ExecuteTime": {
     "end_time": "2020-07-08T09:58:07.509488Z",
     "start_time": "2020-07-08T09:58:07.504499Z"
    }
   },
   "outputs": [],
   "source": [
    "import numpy as np\n",
    "import pandas as pd\n",
    "import matplotlib.pyplot as plt\n",
    "import warnings\n",
    "warnings.filterwarnings('ignore') \n",
    "# 不发出警告\n",
    "import matplotlib.style as psl\n",
    "import plotly.express as px\n",
    "import plotly.graph_objects as go\n"
   ]
  },
  {
   "cell_type": "code",
   "execution_count": 29,
   "metadata": {
    "ExecuteTime": {
     "end_time": "2020-07-08T08:28:51.902956Z",
     "start_time": "2020-07-08T08:28:44.719161Z"
    }
   },
   "outputs": [
    {
     "data": {
      "text/html": [
       "<div>\n",
       "<style scoped>\n",
       "    .dataframe tbody tr th:only-of-type {\n",
       "        vertical-align: middle;\n",
       "    }\n",
       "\n",
       "    .dataframe tbody tr th {\n",
       "        vertical-align: top;\n",
       "    }\n",
       "\n",
       "    .dataframe thead th {\n",
       "        text-align: right;\n",
       "    }\n",
       "</style>\n",
       "<table border=\"1\" class=\"dataframe\">\n",
       "  <thead>\n",
       "    <tr style=\"text-align: right;\">\n",
       "      <th></th>\n",
       "      <th>口味</th>\n",
       "      <th>口味_norm</th>\n",
       "      <th>人均消费</th>\n",
       "      <th>人均消费_norm</th>\n",
       "      <th>性价比</th>\n",
       "      <th>性价比_norm</th>\n",
       "    </tr>\n",
       "    <tr>\n",
       "      <th>类别</th>\n",
       "      <th></th>\n",
       "      <th></th>\n",
       "      <th></th>\n",
       "      <th></th>\n",
       "      <th></th>\n",
       "      <th></th>\n",
       "    </tr>\n",
       "  </thead>\n",
       "  <tbody>\n",
       "    <tr>\n",
       "      <th>素菜</th>\n",
       "      <td>8.021705</td>\n",
       "      <td>1.000000</td>\n",
       "      <td>71.251969</td>\n",
       "      <td>0.365244</td>\n",
       "      <td>0.497415</td>\n",
       "      <td>0.377386</td>\n",
       "    </tr>\n",
       "    <tr>\n",
       "      <th>南菜</th>\n",
       "      <td>7.984874</td>\n",
       "      <td>0.948128</td>\n",
       "      <td>90.606557</td>\n",
       "      <td>0.521254</td>\n",
       "      <td>0.317721</td>\n",
       "      <td>0.177197</td>\n",
       "    </tr>\n",
       "    <tr>\n",
       "      <th>本菜</th>\n",
       "      <td>7.959824</td>\n",
       "      <td>0.912848</td>\n",
       "      <td>110.673744</td>\n",
       "      <td>0.683007</td>\n",
       "      <td>0.285756</td>\n",
       "      <td>0.141585</td>\n",
       "    </tr>\n",
       "    <tr>\n",
       "      <th>火锅</th>\n",
       "      <td>7.949428</td>\n",
       "      <td>0.898206</td>\n",
       "      <td>98.257089</td>\n",
       "      <td>0.582921</td>\n",
       "      <td>0.278237</td>\n",
       "      <td>0.133209</td>\n",
       "    </tr>\n",
       "    <tr>\n",
       "      <th>亚菜</th>\n",
       "      <td>7.889937</td>\n",
       "      <td>0.814421</td>\n",
       "      <td>94.674468</td>\n",
       "      <td>0.554043</td>\n",
       "      <td>0.306965</td>\n",
       "      <td>0.165214</td>\n",
       "    </tr>\n",
       "  </tbody>\n",
       "</table>\n",
       "</div>"
      ],
      "text/plain": [
       "          口味   口味_norm        人均消费  人均消费_norm       性价比  性价比_norm\n",
       "类别                                                               \n",
       "素菜  8.021705  1.000000   71.251969   0.365244  0.497415  0.377386\n",
       "南菜  7.984874  0.948128   90.606557   0.521254  0.317721  0.177197\n",
       "本菜  7.959824  0.912848  110.673744   0.683007  0.285756  0.141585\n",
       "火锅  7.949428  0.898206   98.257089   0.582921  0.278237  0.133209\n",
       "亚菜  7.889937  0.814421   94.674468   0.554043  0.306965  0.165214"
      ]
     },
     "execution_count": 29,
     "metadata": {},
     "output_type": "execute_result"
    },
    {
     "data": {
      "image/png": "[encoded data removed]",
      "text/plain": [
       "<Figure size 720x288 with 3 Axes>"
      ]
     },
     "metadata": {
      "needs_background": "light"
     },
     "output_type": "display_data"
    }
   ],
   "source": [
    "# 1、从三个维度“口味”、“人均消费”、“性价比”对不同菜系进行比较，并筛选出可开店铺的餐饮类型\n",
    "# 要求：\n",
    "# ① 计算出三个维度的指标得分\n",
    "# ② 评价方法：\n",
    "#    口味 → 得分越高越好\n",
    "#    性价比 → 得分越高越好\n",
    "#    人均消费 → 价格适中即可\n",
    "# ③ 制作散点图，x轴为“人均消费”，y轴为“性价比得分”，点的大小为“口味得分”\n",
    "#    绘制柱状图，分别显示“口味得分”、“性价比得分”\n",
    "#    * 建议用bokeh做图\n",
    "# 提示：\n",
    "# ① 数据清洗，清除空值、为0的数据\n",
    "# ② 口味指标计算方法 → 口味评分字段，按照餐饮类别分组算均值，再做标准化处理\n",
    "# ③ 人均消费指标计算方法 → 人均消费字段，按照餐饮类别分组算均值，再做标准化处理\n",
    "# ④ 性价比指标计算方法 → 性价比 = （口味 + 环境 + 服务）/人均消费，按照餐饮类别分组算均值，再做标准化处理\n",
    "# ⑤ 数据计算之前，检查一下数据分布，去除异常值（以外限为标准）\n",
    "#    * 这里排除了高端奢侈餐饮的数据干扰\n",
    "# ⑥ 注意，这里先分别计算三个指标，再合并数据（merge）作图，目的是指标之间的噪音数据不相互影响\n",
    "\n",
    "data = pd.read_excel(r'D:\\BaiduNetdiskDownload\\项目07城市餐饮店铺选址分析\\上海餐饮数据.xlsx',sheet_name='Sheet1')\n",
    "data.dropna(inplace=True)\n",
    "data = data[data['人均消费']>0]\n",
    "data['性价比']=(data['口味']+data['环境']+data['服务'])/data['人均消费']\n",
    "data.head()\n",
    "# psl.use('ggplot')\n",
    "fig,axes=plt.subplots(1,3,figsize=(10,4))\n",
    "axes[0].boxplot(data['口味'])\n",
    "axes[1].boxplot(data['人均消费'])\n",
    "axes[2].boxplot(data['性价比'])\n",
    "# tast = data.groupby('类别').mean()\n",
    "def deal_data(data1,col):\n",
    "    s = data1[col].describe()\n",
    "    q1 = s.loc['25%']\n",
    "    q3 = s.loc['75%']\n",
    "    iqr = q3 - q1\n",
    "    t1 = q1-3*iqr\n",
    "    t2 = q3+3*iqr\n",
    "    return data1[(data1[col]>t1)&(data1[col]<t2)][['类别',col]]\n",
    "data_kw = deal_data(data,'口味')\n",
    "data_xf = deal_data(data,'人均消费')\n",
    "data_xjb = deal_data(data,'性价比')\n",
    "\n",
    "def st_data(data2,colx):\n",
    "    col_name = colx + '_norm'\n",
    "    data_gp = data2.groupby('类别').mean()\n",
    "    data_gp[col_name] = (data_gp[colx]-data_gp[colx].min())/(data_gp[colx].max()-data_gp[colx].min())\n",
    "    data_gp.sort_values(by=col_name,inplace=True,ascending=False)\n",
    "    return data_gp\n",
    "data_kw_score = st_data(data_kw,'口味')\n",
    "data_xf_score = st_data(data_xf,'人均消费')\n",
    "data_xjb_score = st_data(data_xjb,'性价比')\n",
    "\n",
    "data_final = pd.merge(data_kw_score,data_xf_score,left_index=True,right_index=True)\n",
    "data_final = pd.merge(data_final,data_xjb_score,left_index=True,right_index=True)\n",
    "data_final.head()\n"
   ]
  },
  {
   "cell_type": "code",
   "execution_count": 99,
   "metadata": {
    "ExecuteTime": {
     "end_time": "2020-07-08T10:30:31.896722Z",
     "start_time": "2020-07-08T10:30:31.448629Z"
    }
   },
   "outputs": [
    {
     "data": {
      "text/plain": [
       "Text(0.5,1,'各消费区间对比')"
      ]
     },
     "execution_count": 99,
     "metadata": {},
     "output_type": "execute_result"
    },
    {
     "data": {
      "image/png": "[encoded data removed]",
      "text/plain": [
       "<Figure size 720x288 with 1 Axes>"
      ]
     },
     "metadata": {
      "needs_background": "light"
     },
     "output_type": "display_data"
    }
   ],
   "source": [
    "fig,ax=plt.subplots(figsize=(10,4))\n",
    "plt.rcParams['font.sans-serif']=['SimHei']\n",
    "ax.scatter(data_final['人均消费'],data_final['性价比_norm'],s=data_final['口味_norm']*100,c=data_final['性价比_norm'],marker='o')\n",
    "ax.set_title('各消费区间对比')"
   ]
  },
  {
   "cell_type": "code",
   "execution_count": 96,
   "metadata": {
    "ExecuteTime": {
     "end_time": "2020-07-08T10:09:59.364438Z",
     "start_time": "2020-07-08T10:09:59.140040Z"
    }
   },
   "outputs": [
    {
     "data": {
      "image/svg+xml": [
       "<svg class=\"main-svg\" xmlns=\"http://www.w3.org/2000/svg\" xmlns:xlink=\"http://www.w3.org/1999/xlink\" width=\"700\" height=\"450\" style=\"\" viewBox=\"0 0 700 450\"><rect x=\"0\" y=\"0\" width=\"700\" height=\"450\" style=\"fill: rgb(255, 255, 255); fill-opacity: 1;\"/><defs id=\"defs-686535\"><g class=\"clips\"><clipPath id=\"clip686535xyplot\" class=\"plotclip\"><rect width=\"476\" height=\"270\"/></clipPath><clipPath class=\"axesclip\" id=\"clip686535x\"><rect x=\"80\" y=\"0\" width=\"476\" height=\"450\"/></clipPath><clipPath class=\"axesclip\" id=\"clip686535y\"><rect x=\"0\" y=\"100\" width=\"700\" height=\"270\"/></clipPath><clipPath class=\"axesclip\" id=\"clip686535xy\"><rect x=\"80\" y=\"100\" width=\"476\" height=\"270\"/></clipPath></g><g class=\"gradients\"/></defs><g class=\"bglayer\"><rect class=\"bg\" x=\"80\" y=\"100\" width=\"476\" height=\"270\" style=\"fill: rgb(234, 234, 242); fill-opacity: 1; stroke-width: 0;\"/></g><g class=\"layer-below\"><g class=\"imagelayer\"/><g class=\"shapelayer\"/></g><g class=\"cartesianlayer\"><g class=\"subplot xy\"><g class=\"layer-subplot\"><g class=\"shapelayer\"/><g class=\"imagelayer\"/></g><g class=\"gridlayer\"><g class=\"x\"><path class=\"xgrid crisp\" transform=\"translate(88.5,0)\" d=\"M0,100v270\" style=\"stroke: rgb(255, 255, 255); stroke-opacity: 1; stroke-width: 1px;\"/><path class=\"xgrid crisp\" transform=\"translate(105.5,0)\" d=\"M0,100v270\" style=\"stroke: rgb(255, 255, 255); stroke-opacity: 1; stroke-width: 1px;\"/><path class=\"xgrid crisp\" transform=\"translate(122.5,0)\" d=\"M0,100v270\" style=\"stroke: rgb(255, 255, 255); stroke-opacity: 1; stroke-width: 1px;\"/><path class=\"xgrid crisp\" transform=\"translate(139.5,0)\" d=\"M0,100v270\" style=\"stroke: rgb(255, 255, 255); stroke-opacity: 1; stroke-width: 1px;\"/><path class=\"xgrid crisp\" transform=\"translate(156.5,0)\" d=\"M0,100v270\" style=\"stroke: rgb(255, 255, 255); stroke-opacity: 1; stroke-width: 1px;\"/><path class=\"xgrid crisp\" transform=\"translate(173.5,0)\" d=\"M0,100v270\" style=\"stroke: rgb(255, 255, 255); stroke-opacity: 1; stroke-width: 1px;\"/><path class=\"xgrid crisp\" transform=\"translate(190.5,0)\" d=\"M0,100v270\" style=\"stroke: rgb(255, 255, 255); stroke-opacity: 1; stroke-width: 1px;\"/><path class=\"xgrid crisp\" transform=\"translate(207.5,0)\" d=\"M0,100v270\" style=\"stroke: rgb(255, 255, 255); stroke-opacity: 1; stroke-width: 1px;\"/><path class=\"xgrid crisp\" transform=\"translate(224.5,0)\" d=\"M0,100v270\" style=\"stroke: rgb(255, 255, 255); stroke-opacity: 1; stroke-width: 1px;\"/><path class=\"xgrid crisp\" transform=\"translate(241.5,0)\" d=\"M0,100v270\" style=\"stroke: rgb(255, 255, 255); stroke-opacity: 1; stroke-width: 1px;\"/><path class=\"xgrid crisp\" transform=\"translate(258.5,0)\" d=\"M0,100v270\" style=\"stroke: rgb(255, 255, 255); stroke-opacity: 1; stroke-width: 1px;\"/><path class=\"xgrid crisp\" transform=\"translate(275.5,0)\" d=\"M0,100v270\" style=\"stroke: rgb(255, 255, 255); stroke-opacity: 1; stroke-width: 1px;\"/><path class=\"xgrid crisp\" transform=\"translate(292.5,0)\" d=\"M0,100v270\" style=\"stroke: rgb(255, 255, 255); stroke-opacity: 1; stroke-width: 1px;\"/><path class=\"xgrid crisp\" transform=\"translate(309.5,0)\" d=\"M0,100v270\" style=\"stroke: rgb(255, 255, 255); stroke-opacity: 1; stroke-width: 1px;\"/><path class=\"xgrid crisp\" transform=\"translate(326.5,0)\" d=\"M0,100v270\" style=\"stroke: rgb(255, 255, 255); stroke-opacity: 1; stroke-width: 1px;\"/><path class=\"xgrid crisp\" transform=\"translate(343.5,0)\" d=\"M0,100v270\" style=\"stroke: rgb(255, 255, 255); stroke-opacity: 1; stroke-width: 1px;\"/><path class=\"xgrid crisp\" transform=\"translate(360.5,0)\" d=\"M0,100v270\" style=\"stroke: rgb(255, 255, 255); stroke-opacity: 1; stroke-width: 1px;\"/><path class=\"xgrid crisp\" transform=\"translate(377.5,0)\" d=\"M0,100v270\" style=\"stroke: rgb(255, 255, 255); stroke-opacity: 1; stroke-width: 1px;\"/><path class=\"xgrid crisp\" transform=\"translate(394.5,0)\" d=\"M0,100v270\" style=\"stroke: rgb(255, 255, 255); stroke-opacity: 1; stroke-width: 1px;\"/><path class=\"xgrid crisp\" transform=\"translate(411.5,0)\" d=\"M0,100v270\" style=\"stroke: rgb(255, 255, 255); stroke-opacity: 1; stroke-width: 1px;\"/><path class=\"xgrid crisp\" transform=\"translate(428.5,0)\" d=\"M0,100v270\" style=\"stroke: rgb(255, 255, 255); stroke-opacity: 1; stroke-width: 1px;\"/><path class=\"xgrid crisp\" transform=\"translate(445.5,0)\" d=\"M0,100v270\" style=\"stroke: rgb(255, 255, 255); stroke-opacity: 1; stroke-width: 1px;\"/><path class=\"xgrid crisp\" transform=\"translate(462.5,0)\" d=\"M0,100v270\" style=\"stroke: rgb(255, 255, 255); stroke-opacity: 1; stroke-width: 1px;\"/><path class=\"xgrid crisp\" transform=\"translate(479.5,0)\" d=\"M0,100v270\" style=\"stroke: rgb(255, 255, 255); stroke-opacity: 1; stroke-width: 1px;\"/><path class=\"xgrid crisp\" transform=\"translate(496.5,0)\" d=\"M0,100v270\" style=\"stroke: rgb(255, 255, 255); stroke-opacity: 1; stroke-width: 1px;\"/><path class=\"xgrid crisp\" transform=\"translate(513.5,0)\" d=\"M0,100v270\" style=\"stroke: rgb(255, 255, 255); stroke-opacity: 1; stroke-width: 1px;\"/><path class=\"xgrid crisp\" transform=\"translate(530.5,0)\" d=\"M0,100v270\" style=\"stroke: rgb(255, 255, 255); stroke-opacity: 1; stroke-width: 1px;\"/><path class=\"xgrid crisp\" transform=\"translate(547.5,0)\" d=\"M0,100v270\" style=\"stroke: rgb(255, 255, 255); stroke-opacity: 1; stroke-width: 1px;\"/></g><g class=\"y\"><path class=\"ygrid crisp\" transform=\"translate(0,318.7)\" d=\"M80,0h476\" style=\"stroke: rgb(255, 255, 255); stroke-opacity: 1; stroke-width: 1px;\"/><path class=\"ygrid crisp\" transform=\"translate(0,267.4)\" d=\"M80,0h476\" style=\"stroke: rgb(255, 255, 255); stroke-opacity: 1; stroke-width: 1px;\"/><path class=\"ygrid crisp\" transform=\"translate(0,216.1)\" d=\"M80,0h476\" style=\"stroke: rgb(255, 255, 255); stroke-opacity: 1; stroke-width: 1px;\"/><path class=\"ygrid crisp\" transform=\"translate(0,164.8)\" d=\"M80,0h476\" style=\"stroke: rgb(255, 255, 255); stroke-opacity: 1; stroke-width: 1px;\"/><path class=\"ygrid crisp\" transform=\"translate(0,113.5)\" d=\"M80,0h476\" style=\"stroke: rgb(255, 255, 255); stroke-opacity: 1; stroke-width: 1px;\"/></g></g><g class=\"zerolinelayer\"><path class=\"yzl zl crisp\" transform=\"translate(0,370)\" d=\"M80,0h476\" style=\"stroke: rgb(255, 255, 255); stroke-opacity: 1; stroke-width: 1px;\"/></g><path class=\"xlines-below\"/><path class=\"ylines-below\"/><g class=\"overlines-below\"/><g class=\"xaxislayer-below\"/><g class=\"yaxislayer-below\"/><g class=\"overaxes-below\"/><g class=\"plot\" transform=\"translate(80, 100)\" clip-path=\"url('#clip686535xyplot')\"><g class=\"barlayer mlayer\"><g class=\"trace bars\" style=\"opacity: 1;\"><g class=\"points\"><g class=\"point\"><path d=\"M1.7,270V13.5H8.5V270Z\" style=\"vector-effect: non-scaling-stroke; opacity: 1; stroke-width: 0.5px; fill: rgb(76, 114, 176); fill-opacity: 1; stroke: rgb(234, 234, 242); stroke-opacity: 1;\"/></g><g class=\"point\"><path d=\"M18.7,270V26.81H25.5V270Z\" style=\"vector-effect: non-scaling-stroke; opacity: 1; stroke-width: 0.5px; fill: rgb(76, 114, 176); fill-opacity: 1; stroke: rgb(234, 234, 242); stroke-opacity: 1;\"/></g><g class=\"point\"><path d=\"M35.7,270V35.85H42.5V270Z\" style=\"vector-effect: non-scaling-stroke; opacity: 1; stroke-width: 0.5px; fill: rgb(76, 114, 176); fill-opacity: 1; stroke: rgb(234, 234, 242); stroke-opacity: 1;\"/></g><g class=\"point\"><path d=\"M52.7,270V39.61H59.5V270Z\" style=\"vector-effect: non-scaling-stroke; opacity: 1; stroke-width: 0.5px; fill: rgb(76, 114, 176); fill-opacity: 1; stroke: rgb(234, 234, 242); stroke-opacity: 1;\"/></g><g class=\"point\"><path d=\"M69.7,270V61.1H76.5V270Z\" style=\"vector-effect: non-scaling-stroke; opacity: 1; stroke-width: 0.5px; fill: rgb(76, 114, 176); fill-opacity: 1; stroke: rgb(234, 234, 242); stroke-opacity: 1;\"/></g><g class=\"point\"><path d=\"M86.7,270V67.05H93.5V270Z\" style=\"vector-effect: non-scaling-stroke; opacity: 1; stroke-width: 0.5px; fill: rgb(76, 114, 176); fill-opacity: 1; stroke: rgb(234, 234, 242); stroke-opacity: 1;\"/></g><g class=\"point\"><path d=\"M103.7,270V74.23H110.5V270Z\" style=\"vector-effect: non-scaling-stroke; opacity: 1; stroke-width: 0.5px; fill: rgb(76, 114, 176); fill-opacity: 1; stroke: rgb(234, 234, 242); stroke-opacity: 1;\"/></g><g class=\"point\"><path d=\"M120.7,270V96.76H127.5V270Z\" style=\"vector-effect: non-scaling-stroke; opacity: 1; stroke-width: 0.5px; fill: rgb(76, 114, 176); fill-opacity: 1; stroke: rgb(234, 234, 242); stroke-opacity: 1;\"/></g><g class=\"point\"><path d=\"M137.7,270V103.52H144.5V270Z\" style=\"vector-effect: non-scaling-stroke; opacity: 1; stroke-width: 0.5px; fill: rgb(76, 114, 176); fill-opacity: 1; stroke: rgb(234, 234, 242); stroke-opacity: 1;\"/></g><g class=\"point\"><path d=\"M154.7,270V104.27H161.5V270Z\" style=\"vector-effect: non-scaling-stroke; opacity: 1; stroke-width: 0.5px; fill: rgb(76, 114, 176); fill-opacity: 1; stroke: rgb(234, 234, 242); stroke-opacity: 1;\"/></g><g class=\"point\"><path d=\"M171.7,270V132.18H178.5V270Z\" style=\"vector-effect: non-scaling-stroke; opacity: 1; stroke-width: 0.5px; fill: rgb(76, 114, 176); fill-opacity: 1; stroke: rgb(234, 234, 242); stroke-opacity: 1;\"/></g><g class=\"point\"><path d=\"M188.7,270V153.01H195.5V270Z\" style=\"vector-effect: non-scaling-stroke; opacity: 1; stroke-width: 0.5px; fill: rgb(76, 114, 176); fill-opacity: 1; stroke: rgb(234, 234, 242); stroke-opacity: 1;\"/></g><g class=\"point\"><path d=\"M205.7,270V154.66H212.5V270Z\" style=\"vector-effect: non-scaling-stroke; opacity: 1; stroke-width: 0.5px; fill: rgb(76, 114, 176); fill-opacity: 1; stroke: rgb(234, 234, 242); stroke-opacity: 1;\"/></g><g class=\"point\"><path d=\"M222.7,270V163.17H229.5V270Z\" style=\"vector-effect: non-scaling-stroke; opacity: 1; stroke-width: 0.5px; fill: rgb(76, 114, 176); fill-opacity: 1; stroke: rgb(234, 234, 242); stroke-opacity: 1;\"/></g><g class=\"point\"><path d=\"M239.7,270V163.67H246.5V270Z\" style=\"vector-effect: non-scaling-stroke; opacity: 1; stroke-width: 0.5px; fill: rgb(76, 114, 176); fill-opacity: 1; stroke: rgb(234, 234, 242); stroke-opacity: 1;\"/></g><g class=\"point\"><path d=\"M256.7,270V187.13H263.5V270Z\" style=\"vector-effect: non-scaling-stroke; opacity: 1; stroke-width: 0.5px; fill: rgb(76, 114, 176); fill-opacity: 1; stroke: rgb(234, 234, 242); stroke-opacity: 1;\"/></g><g class=\"point\"><path d=\"M273.7,270V193.14H280.5V270Z\" style=\"vector-effect: non-scaling-stroke; opacity: 1; stroke-width: 0.5px; fill: rgb(76, 114, 176); fill-opacity: 1; stroke: rgb(234, 234, 242); stroke-opacity: 1;\"/></g><g class=\"point\"><path d=\"M290.7,270V198.97H297.5V270Z\" style=\"vector-effect: non-scaling-stroke; opacity: 1; stroke-width: 0.5px; fill: rgb(76, 114, 176); fill-opacity: 1; stroke: rgb(234, 234, 242); stroke-opacity: 1;\"/></g><g class=\"point\"><path d=\"M307.7,270V200.06H314.5V270Z\" style=\"vector-effect: non-scaling-stroke; opacity: 1; stroke-width: 0.5px; fill: rgb(76, 114, 176); fill-opacity: 1; stroke: rgb(234, 234, 242); stroke-opacity: 1;\"/></g><g class=\"point\"><path d=\"M324.7,270V200.57H331.5V270Z\" style=\"vector-effect: non-scaling-stroke; opacity: 1; stroke-width: 0.5px; fill: rgb(76, 114, 176); fill-opacity: 1; stroke: rgb(234, 234, 242); stroke-opacity: 1;\"/></g><g class=\"point\"><path d=\"M341.7,270V201.96H348.5V270Z\" style=\"vector-effect: non-scaling-stroke; opacity: 1; stroke-width: 0.5px; fill: rgb(76, 114, 176); fill-opacity: 1; stroke: rgb(234, 234, 242); stroke-opacity: 1;\"/></g><g class=\"point\"><path d=\"M358.7,270V205.87H365.5V270Z\" style=\"vector-effect: non-scaling-stroke; opacity: 1; stroke-width: 0.5px; fill: rgb(76, 114, 176); fill-opacity: 1; stroke: rgb(234, 234, 242); stroke-opacity: 1;\"/></g><g class=\"point\"><path d=\"M375.7,270V213.15H382.5V270Z\" style=\"vector-effect: non-scaling-stroke; opacity: 1; stroke-width: 0.5px; fill: rgb(76, 114, 176); fill-opacity: 1; stroke: rgb(234, 234, 242); stroke-opacity: 1;\"/></g><g class=\"point\"><path d=\"M392.7,270V239.99H399.5V270Z\" style=\"vector-effect: non-scaling-stroke; opacity: 1; stroke-width: 0.5px; fill: rgb(76, 114, 176); fill-opacity: 1; stroke: rgb(234, 234, 242); stroke-opacity: 1;\"/></g><g class=\"point\"><path d=\"M409.7,270V251.9H416.5V270Z\" style=\"vector-effect: non-scaling-stroke; opacity: 1; stroke-width: 0.5px; fill: rgb(76, 114, 176); fill-opacity: 1; stroke: rgb(234, 234, 242); stroke-opacity: 1;\"/></g><g class=\"point\"><path d=\"M426.7,270V254.85H433.5V270Z\" style=\"vector-effect: non-scaling-stroke; opacity: 1; stroke-width: 0.5px; fill: rgb(76, 114, 176); fill-opacity: 1; stroke: rgb(234, 234, 242); stroke-opacity: 1;\"/></g><g class=\"point\"><path d=\"M443.7,270V256.11H450.5V270Z\" style=\"vector-effect: non-scaling-stroke; opacity: 1; stroke-width: 0.5px; fill: rgb(76, 114, 176); fill-opacity: 1; stroke: rgb(234, 234, 242); stroke-opacity: 1;\"/></g><g class=\"point\"><path d=\"M460.7,270V270H467.5V270Z\" style=\"vector-effect: non-scaling-stroke; opacity: 1; stroke-width: 0.5px; fill: rgb(76, 114, 176); fill-opacity: 1; stroke: rgb(234, 234, 242); stroke-opacity: 1;\"/></g></g></g><g class=\"trace bars\" style=\"opacity: 1;\"><g class=\"points\"><g class=\"point\"><path d=\"M8.5,270V173.2H15.3V270Z\" style=\"vector-effect: non-scaling-stroke; opacity: 1; stroke-width: 0.5px; fill: rgb(221, 132, 82); fill-opacity: 1; stroke: rgb(234, 234, 242); stroke-opacity: 1;\"/></g><g class=\"point\"><path d=\"M25.5,270V224.55H32.3V270Z\" style=\"vector-effect: non-scaling-stroke; opacity: 1; stroke-width: 0.5px; fill: rgb(221, 132, 82); fill-opacity: 1; stroke: rgb(234, 234, 242); stroke-opacity: 1;\"/></g><g class=\"point\"><path d=\"M42.5,270V233.68H49.3V270Z\" style=\"vector-effect: non-scaling-stroke; opacity: 1; stroke-width: 0.5px; fill: rgb(221, 132, 82); fill-opacity: 1; stroke: rgb(234, 234, 242); stroke-opacity: 1;\"/></g><g class=\"point\"><path d=\"M59.5,270V235.83H66.3V270Z\" style=\"vector-effect: non-scaling-stroke; opacity: 1; stroke-width: 0.5px; fill: rgb(221, 132, 82); fill-opacity: 1; stroke: rgb(234, 234, 242); stroke-opacity: 1;\"/></g><g class=\"point\"><path d=\"M76.5,270V227.62H83.3V270Z\" style=\"vector-effect: non-scaling-stroke; opacity: 1; stroke-width: 0.5px; fill: rgb(221, 132, 82); fill-opacity: 1; stroke: rgb(234, 234, 242); stroke-opacity: 1;\"/></g><g class=\"point\"><path d=\"M93.5,270V267.77H100.3V270Z\" style=\"vector-effect: non-scaling-stroke; opacity: 1; stroke-width: 0.5px; fill: rgb(221, 132, 82); fill-opacity: 1; stroke: rgb(234, 234, 242); stroke-opacity: 1;\"/></g><g class=\"point\"><path d=\"M110.5,270V211.47H117.3V270Z\" style=\"vector-effect: non-scaling-stroke; opacity: 1; stroke-width: 0.5px; fill: rgb(221, 132, 82); fill-opacity: 1; stroke: rgb(234, 234, 242); stroke-opacity: 1;\"/></g><g class=\"point\"><path d=\"M127.5,270V143.3H134.3V270Z\" style=\"vector-effect: non-scaling-stroke; opacity: 1; stroke-width: 0.5px; fill: rgb(221, 132, 82); fill-opacity: 1; stroke: rgb(234, 234, 242); stroke-opacity: 1;\"/></g><g class=\"point\"><path d=\"M144.5,270V189.18H151.3V270Z\" style=\"vector-effect: non-scaling-stroke; opacity: 1; stroke-width: 0.5px; fill: rgb(221, 132, 82); fill-opacity: 1; stroke: rgb(234, 234, 242); stroke-opacity: 1;\"/></g><g class=\"point\"><path d=\"M161.5,270V202.84H168.3V270Z\" style=\"vector-effect: non-scaling-stroke; opacity: 1; stroke-width: 0.5px; fill: rgb(221, 132, 82); fill-opacity: 1; stroke: rgb(234, 234, 242); stroke-opacity: 1;\"/></g><g class=\"point\"><path d=\"M178.5,270V238.99H185.3V270Z\" style=\"vector-effect: non-scaling-stroke; opacity: 1; stroke-width: 0.5px; fill: rgb(221, 132, 82); fill-opacity: 1; stroke: rgb(234, 234, 242); stroke-opacity: 1;\"/></g><g class=\"point\"><path d=\"M195.5,270V221.63H202.3V270Z\" style=\"vector-effect: non-scaling-stroke; opacity: 1; stroke-width: 0.5px; fill: rgb(221, 132, 82); fill-opacity: 1; stroke: rgb(234, 234, 242); stroke-opacity: 1;\"/></g><g class=\"point\"><path d=\"M212.5,270V144.31H219.3V270Z\" style=\"vector-effect: non-scaling-stroke; opacity: 1; stroke-width: 0.5px; fill: rgb(221, 132, 82); fill-opacity: 1; stroke: rgb(234, 234, 242); stroke-opacity: 1;\"/></g><g class=\"point\"><path d=\"M229.5,270V184.06H236.3V270Z\" style=\"vector-effect: non-scaling-stroke; opacity: 1; stroke-width: 0.5px; fill: rgb(221, 132, 82); fill-opacity: 1; stroke: rgb(234, 234, 242); stroke-opacity: 1;\"/></g><g class=\"point\"><path d=\"M246.5,270V195.4H253.3V270Z\" style=\"vector-effect: non-scaling-stroke; opacity: 1; stroke-width: 0.5px; fill: rgb(221, 132, 82); fill-opacity: 1; stroke: rgb(234, 234, 242); stroke-opacity: 1;\"/></g><g class=\"point\"><path d=\"M263.5,270V192H270.3V270Z\" style=\"vector-effect: non-scaling-stroke; opacity: 1; stroke-width: 0.5px; fill: rgb(221, 132, 82); fill-opacity: 1; stroke: rgb(234, 234, 242); stroke-opacity: 1;\"/></g><g class=\"point\"><path d=\"M280.5,270V13.5H287.3V270Z\" style=\"vector-effect: non-scaling-stroke; opacity: 1; stroke-width: 0.5px; fill: rgb(221, 132, 82); fill-opacity: 1; stroke: rgb(234, 234, 242); stroke-opacity: 1;\"/></g><g class=\"point\"><path d=\"M297.5,270V235.63H304.3V270Z\" style=\"vector-effect: non-scaling-stroke; opacity: 1; stroke-width: 0.5px; fill: rgb(221, 132, 82); fill-opacity: 1; stroke: rgb(234, 234, 242); stroke-opacity: 1;\"/></g><g class=\"point\"><path d=\"M314.5,270V51.95H321.3V270Z\" style=\"vector-effect: non-scaling-stroke; opacity: 1; stroke-width: 0.5px; fill: rgb(221, 132, 82); fill-opacity: 1; stroke: rgb(234, 234, 242); stroke-opacity: 1;\"/></g><g class=\"point\"><path d=\"M331.5,270V221.06H338.3V270Z\" style=\"vector-effect: non-scaling-stroke; opacity: 1; stroke-width: 0.5px; fill: rgb(221, 132, 82); fill-opacity: 1; stroke: rgb(234, 234, 242); stroke-opacity: 1;\"/></g><g class=\"point\"><path d=\"M348.5,270V270H355.3V270Z\" style=\"vector-effect: non-scaling-stroke; opacity: 1; stroke-width: 0.5px; fill: rgb(221, 132, 82); fill-opacity: 1; stroke: rgb(234, 234, 242); stroke-opacity: 1;\"/></g><g class=\"point\"><path d=\"M365.5,270V196.84H372.3V270Z\" style=\"vector-effect: non-scaling-stroke; opacity: 1; stroke-width: 0.5px; fill: rgb(221, 132, 82); fill-opacity: 1; stroke: rgb(234, 234, 242); stroke-opacity: 1;\"/></g><g class=\"point\"><path d=\"M382.5,270V152.6H389.3V270Z\" style=\"vector-effect: non-scaling-stroke; opacity: 1; stroke-width: 0.5px; fill: rgb(221, 132, 82); fill-opacity: 1; stroke: rgb(234, 234, 242); stroke-opacity: 1;\"/></g><g class=\"point\"><path d=\"M399.5,270V248.08H406.3V270Z\" style=\"vector-effect: non-scaling-stroke; opacity: 1; stroke-width: 0.5px; fill: rgb(221, 132, 82); fill-opacity: 1; stroke: rgb(234, 234, 242); stroke-opacity: 1;\"/></g><g class=\"point\"><path d=\"M416.5,270V29.28H423.3V270Z\" style=\"vector-effect: non-scaling-stroke; opacity: 1; stroke-width: 0.5px; fill: rgb(221, 132, 82); fill-opacity: 1; stroke: rgb(234, 234, 242); stroke-opacity: 1;\"/></g><g class=\"point\"><path d=\"M433.5,270V183.52H440.3V270Z\" style=\"vector-effect: non-scaling-stroke; opacity: 1; stroke-width: 0.5px; fill: rgb(221, 132, 82); fill-opacity: 1; stroke: rgb(234, 234, 242); stroke-opacity: 1;\"/></g><g class=\"point\"><path d=\"M450.5,270V163.15H457.3V270Z\" style=\"vector-effect: non-scaling-stroke; opacity: 1; stroke-width: 0.5px; fill: rgb(221, 132, 82); fill-opacity: 1; stroke: rgb(234, 234, 242); stroke-opacity: 1;\"/></g><g class=\"point\"><path d=\"M467.5,270V156.51H474.3V270Z\" style=\"vector-effect: non-scaling-stroke; opacity: 1; stroke-width: 0.5px; fill: rgb(221, 132, 82); fill-opacity: 1; stroke: rgb(234, 234, 242); stroke-opacity: 1;\"/></g></g></g></g></g><g class=\"overplot\"/><path class=\"xlines-above crisp\" d=\"M0,0\" style=\"fill: none;\"/><path class=\"ylines-above crisp\" d=\"M0,0\" style=\"fill: none;\"/><g class=\"overlines-above\"/><g class=\"xaxislayer-above\"><g class=\"xtick\"><text text-anchor=\"start\" x=\"0\" y=\"383\" transform=\"translate(88.5,0) rotate(90,0,377)\" style=\"font-family: 'Open Sans', verdana, arial, sans-serif; font-size: 12px; fill: rgb(36, 36, 36); fill-opacity: 1; white-space: pre;\">素菜</text></g><g class=\"xtick\"><text text-anchor=\"start\" x=\"0\" y=\"383\" transform=\"translate(105.5,0) rotate(90,0,377)\" style=\"font-family: 'Open Sans', verdana, arial, sans-serif; font-size: 12px; fill: rgb(36, 36, 36); fill-opacity: 1; white-space: pre;\">南菜</text></g><g class=\"xtick\"><text text-anchor=\"start\" x=\"0\" y=\"383\" transform=\"translate(122.5,0) rotate(90,0,377)\" style=\"font-family: 'Open Sans', verdana, arial, sans-serif; font-size: 12px; fill: rgb(36, 36, 36); fill-opacity: 1; white-space: pre;\">本菜</text></g><g class=\"xtick\"><text text-anchor=\"start\" x=\"0\" y=\"383\" transform=\"translate(139.5,0) rotate(90,0,377)\" style=\"font-family: 'Open Sans', verdana, arial, sans-serif; font-size: 12px; fill: rgb(36, 36, 36); fill-opacity: 1; white-space: pre;\">火锅</text></g><g class=\"xtick\"><text text-anchor=\"start\" x=\"0\" y=\"383\" transform=\"translate(156.5,0) rotate(90,0,377)\" style=\"font-family: 'Open Sans', verdana, arial, sans-serif; font-size: 12px; fill: rgb(36, 36, 36); fill-opacity: 1; white-space: pre;\">亚菜</text></g><g class=\"xtick\"><text text-anchor=\"start\" x=\"0\" y=\"383\" transform=\"translate(173.5,0) rotate(90,0,377)\" style=\"font-family: 'Open Sans', verdana, arial, sans-serif; font-size: 12px; fill: rgb(36, 36, 36); fill-opacity: 1; white-space: pre;\">蟹宴</text></g><g class=\"xtick\"><text text-anchor=\"start\" x=\"0\" y=\"383\" transform=\"translate(190.5,0) rotate(90,0,377)\" style=\"font-family: 'Open Sans', verdana, arial, sans-serif; font-size: 12px; fill: rgb(36, 36, 36); fill-opacity: 1; white-space: pre;\">西餐</text></g><g class=\"xtick\"><text text-anchor=\"start\" x=\"0\" y=\"383\" transform=\"translate(207.5,0) rotate(90,0,377)\" style=\"font-family: 'Open Sans', verdana, arial, sans-serif; font-size: 12px; fill: rgb(36, 36, 36); fill-opacity: 1; white-space: pre;\">疆菜</text></g><g class=\"xtick\"><text text-anchor=\"start\" x=\"0\" y=\"383\" transform=\"translate(224.5,0) rotate(90,0,377)\" style=\"font-family: 'Open Sans', verdana, arial, sans-serif; font-size: 12px; fill: rgb(36, 36, 36); fill-opacity: 1; white-space: pre;\">州菜</text></g><g class=\"xtick\"><text text-anchor=\"start\" x=\"0\" y=\"383\" transform=\"translate(241.5,0) rotate(90,0,377)\" style=\"font-family: 'Open Sans', verdana, arial, sans-serif; font-size: 12px; fill: rgb(36, 36, 36); fill-opacity: 1; white-space: pre;\">料理</text></g><g class=\"xtick\"><text text-anchor=\"start\" x=\"0\" y=\"383\" transform=\"translate(258.5,0) rotate(90,0,377)\" style=\"font-family: 'Open Sans', verdana, arial, sans-serif; font-size: 12px; fill: rgb(36, 36, 36); fill-opacity: 1; white-space: pre;\">海鲜</text></g><g class=\"xtick\"><text text-anchor=\"start\" x=\"0\" y=\"383\" transform=\"translate(275.5,0) rotate(90,0,377)\" style=\"font-family: 'Open Sans', verdana, arial, sans-serif; font-size: 12px; fill: rgb(36, 36, 36); fill-opacity: 1; white-space: pre;\">粤菜</text></g><g class=\"xtick\"><text text-anchor=\"start\" x=\"0\" y=\"383\" transform=\"translate(292.5,0) rotate(90,0,377)\" style=\"font-family: 'Open Sans', verdana, arial, sans-serif; font-size: 12px; fill: rgb(36, 36, 36); fill-opacity: 1; white-space: pre;\">啡厅</text></g><g class=\"xtick\"><text text-anchor=\"start\" x=\"0\" y=\"383\" transform=\"translate(309.5,0) rotate(90,0,377)\" style=\"font-family: 'Open Sans', verdana, arial, sans-serif; font-size: 12px; fill: rgb(36, 36, 36); fill-opacity: 1; white-space: pre;\">湾菜</text></g><g class=\"xtick\"><text text-anchor=\"start\" x=\"0\" y=\"383\" transform=\"translate(326.5,0) rotate(90,0,377)\" style=\"font-family: 'Open Sans', verdana, arial, sans-serif; font-size: 12px; fill: rgb(36, 36, 36); fill-opacity: 1; white-space: pre;\">烧烤</text></g><g class=\"xtick\"><text text-anchor=\"start\" x=\"0\" y=\"383\" transform=\"translate(343.5,0) rotate(90,0,377)\" style=\"font-family: 'Open Sans', verdana, arial, sans-serif; font-size: 12px; fill: rgb(36, 36, 36); fill-opacity: 1; white-space: pre;\">西菜</text></g><g class=\"xtick\"><text text-anchor=\"start\" x=\"0\" y=\"383\" transform=\"translate(360.5,0) rotate(90,0,377)\" style=\"font-family: 'Open Sans', verdana, arial, sans-serif; font-size: 12px; fill: rgb(36, 36, 36); fill-opacity: 1; white-space: pre;\">甜点</text></g><g class=\"xtick\"><text text-anchor=\"start\" x=\"0\" y=\"383\" transform=\"translate(377.5,0) rotate(90,0,377)\" style=\"font-family: 'Open Sans', verdana, arial, sans-serif; font-size: 12px; fill: rgb(36, 36, 36); fill-opacity: 1; white-space: pre;\">龙虾</text></g><g class=\"xtick\"><text text-anchor=\"start\" x=\"0\" y=\"383\" transform=\"translate(394.5,0) rotate(90,0,377)\" style=\"font-family: 'Open Sans', verdana, arial, sans-serif; font-size: 12px; fill: rgb(36, 36, 36); fill-opacity: 1; white-space: pre;\">面馆</text></g><g class=\"xtick\"><text text-anchor=\"start\" x=\"0\" y=\"383\" transform=\"translate(411.5,0) rotate(90,0,377)\" style=\"font-family: 'Open Sans', verdana, arial, sans-serif; font-size: 12px; fill: rgb(36, 36, 36); fill-opacity: 1; white-space: pre;\">浙菜</text></g><g class=\"xtick\"><text text-anchor=\"start\" x=\"0\" y=\"383\" transform=\"translate(428.5,0) rotate(90,0,377)\" style=\"font-family: 'Open Sans', verdana, arial, sans-serif; font-size: 12px; fill: rgb(36, 36, 36); fill-opacity: 1; white-space: pre;\">午茶</text></g><g class=\"xtick\"><text text-anchor=\"start\" x=\"0\" y=\"383\" transform=\"translate(445.5,0) rotate(90,0,377)\" style=\"font-family: 'Open Sans', verdana, arial, sans-serif; font-size: 12px; fill: rgb(36, 36, 36); fill-opacity: 1; white-space: pre;\">川菜</text></g><g class=\"xtick\"><text text-anchor=\"start\" x=\"0\" y=\"383\" transform=\"translate(462.5,0) rotate(90,0,377)\" style=\"font-family: 'Open Sans', verdana, arial, sans-serif; font-size: 12px; fill: rgb(36, 36, 36); fill-opacity: 1; white-space: pre;\">美食</text></g><g class=\"xtick\"><text text-anchor=\"start\" x=\"0\" y=\"383\" transform=\"translate(479.5,0) rotate(90,0,377)\" style=\"font-family: 'Open Sans', verdana, arial, sans-serif; font-size: 12px; fill: rgb(36, 36, 36); fill-opacity: 1; white-space: pre;\">助餐</text></g><g class=\"xtick\"><text text-anchor=\"start\" x=\"0\" y=\"383\" transform=\"translate(496.5,0) rotate(90,0,377)\" style=\"font-family: 'Open Sans', verdana, arial, sans-serif; font-size: 12px; fill: rgb(36, 36, 36); fill-opacity: 1; white-space: pre;\">快餐</text></g><g class=\"xtick\"><text text-anchor=\"start\" x=\"0\" y=\"383\" transform=\"translate(513.5,0) rotate(90,0,377)\" style=\"font-family: 'Open Sans', verdana, arial, sans-serif; font-size: 12px; fill: rgb(36, 36, 36); fill-opacity: 1; white-space: pre;\">湘菜</text></g><g class=\"xtick\"><text text-anchor=\"start\" x=\"0\" y=\"383\" transform=\"translate(530.5,0) rotate(90,0,377)\" style=\"font-family: 'Open Sans', verdana, arial, sans-serif; font-size: 12px; fill: rgb(36, 36, 36); fill-opacity: 1; white-space: pre;\">北菜</text></g><g class=\"xtick\"><text text-anchor=\"start\" x=\"0\" y=\"383\" transform=\"translate(547.5,0) rotate(90,0,377)\" style=\"font-family: 'Open Sans', verdana, arial, sans-serif; font-size: 12px; fill: rgb(36, 36, 36); fill-opacity: 1; white-space: pre;\">常菜</text></g></g><g class=\"yaxislayer-above\"><g class=\"ytick\"><text text-anchor=\"end\" x=\"79\" y=\"4.199999999999999\" transform=\"translate(0,370)\" style=\"font-family: 'Open Sans', verdana, arial, sans-serif; font-size: 12px; fill: rgb(36, 36, 36); fill-opacity: 1; white-space: pre;\">0</text></g><g class=\"ytick\"><text text-anchor=\"end\" x=\"79\" y=\"4.199999999999999\" transform=\"translate(0,318.7)\" style=\"font-family: 'Open Sans', verdana, arial, sans-serif; font-size: 12px; fill: rgb(36, 36, 36); fill-opacity: 1; white-space: pre;\">0.2</text></g><g class=\"ytick\"><text text-anchor=\"end\" x=\"79\" y=\"4.199999999999999\" transform=\"translate(0,267.4)\" style=\"font-family: 'Open Sans', verdana, arial, sans-serif; font-size: 12px; fill: rgb(36, 36, 36); fill-opacity: 1; white-space: pre;\">0.4</text></g><g class=\"ytick\"><text text-anchor=\"end\" x=\"79\" y=\"4.199999999999999\" transform=\"translate(0,216.1)\" style=\"font-family: 'Open Sans', verdana, arial, sans-serif; font-size: 12px; fill: rgb(36, 36, 36); fill-opacity: 1; white-space: pre;\">0.6</text></g><g class=\"ytick\"><text text-anchor=\"end\" x=\"79\" y=\"4.199999999999999\" transform=\"translate(0,164.8)\" style=\"font-family: 'Open Sans', verdana, arial, sans-serif; font-size: 12px; fill: rgb(36, 36, 36); fill-opacity: 1; white-space: pre;\">0.8</text></g><g class=\"ytick\"><text text-anchor=\"end\" x=\"79\" y=\"4.199999999999999\" transform=\"translate(0,113.5)\" style=\"font-family: 'Open Sans', verdana, arial, sans-serif; font-size: 12px; fill: rgb(36, 36, 36); fill-opacity: 1; white-space: pre;\">1</text></g></g><g class=\"overaxes-above\"/></g></g><g class=\"polarlayer\"/><g class=\"ternarylayer\"/><g class=\"geolayer\"/><g class=\"funnelarealayer\"/><g class=\"pielayer\"/><g class=\"treemaplayer\"/><g class=\"sunburstlayer\"/><g class=\"glimages\"/><defs id=\"topdefs-686535\"><g class=\"clips\"/><clipPath id=\"legend686535\"><rect width=\"122\" height=\"48\" x=\"0\" y=\"0\"/></clipPath></defs><g class=\"layer-above\"><g class=\"imagelayer\"/><g class=\"shapelayer\"/></g><g class=\"infolayer\"><g class=\"legend\" pointer-events=\"all\" transform=\"translate(565.52, 100)\"><rect class=\"bg\" shape-rendering=\"crispEdges\" width=\"122\" height=\"48\" x=\"0\" y=\"0\" style=\"stroke: rgb(68, 68, 68); stroke-opacity: 1; fill: rgb(255, 255, 255); fill-opacity: 1; stroke-width: 0px;\"/><g class=\"scrollbox\" transform=\"translate(0, 0)\" clip-path=\"url('#legend686535')\"><g class=\"groups\"><g class=\"traces\" transform=\"translate(0, 14.5)\" style=\"opacity: 1;\"><text class=\"legendtext user-select-none\" text-anchor=\"start\" x=\"40\" y=\"4.680000000000001\" style=\"font-family: 'Open Sans', verdana, arial, sans-serif; font-size: 12px; fill: rgb(36, 36, 36); fill-opacity: 1; white-space: pre;\">口味_norm</text><g class=\"layers\" style=\"opacity: 1;\"><g class=\"legendfill\"/><g class=\"legendlines\"/><g class=\"legendsymbols\"><g class=\"legendpoints\"><path class=\"legendundefined\" d=\"M6,6H-6V-6H6Z\" transform=\"translate(20,0)\" style=\"stroke-width: 0.5px; fill: rgb(76, 114, 176); fill-opacity: 1; stroke: rgb(234, 234, 242); stroke-opacity: 1;\"/></g></g></g><rect class=\"legendtoggle\" pointer-events=\"all\" x=\"0\" y=\"-9.5\" width=\"116.125\" height=\"19\" style=\"cursor: pointer; fill: rgb(0, 0, 0); fill-opacity: 0;\"/></g><g class=\"traces\" transform=\"translate(0, 33.5)\" style=\"opacity: 1;\"><text class=\"legendtext user-select-none\" text-anchor=\"start\" x=\"40\" y=\"4.680000000000001\" style=\"font-family: 'Open Sans', verdana, arial, sans-serif; font-size: 12px; fill: rgb(36, 36, 36); fill-opacity: 1; white-space: pre;\">性价比_norm</text><g class=\"layers\" style=\"opacity: 1;\"><g class=\"legendfill\"/><g class=\"legendlines\"/><g class=\"legendsymbols\"><g class=\"legendpoints\"><path class=\"legendundefined\" d=\"M6,6H-6V-6H6Z\" transform=\"translate(20,0)\" style=\"stroke-width: 0.5px; fill: rgb(221, 132, 82); fill-opacity: 1; stroke: rgb(234, 234, 242); stroke-opacity: 1;\"/></g></g></g><rect class=\"legendtoggle\" pointer-events=\"all\" x=\"0\" y=\"-9.5\" width=\"116.125\" height=\"19\" style=\"cursor: pointer; fill: rgb(0, 0, 0); fill-opacity: 0;\"/></g></g></g><rect class=\"scrollbar\" rx=\"20\" ry=\"3\" width=\"0\" height=\"0\" x=\"0\" y=\"0\" style=\"fill: rgb(128, 139, 164); fill-opacity: 1;\"/></g><g class=\"g-gtitle\"><text class=\"gtitle\" x=\"350\" y=\"50\" text-anchor=\"middle\" dy=\"0em\" style=\"font-family: 'Open Sans', verdana, arial, sans-serif; font-size: 17px; fill: rgb(36, 36, 36); opacity: 1; font-weight: normal; white-space: pre;\">各式菜系对比</text></g><g class=\"g-xtitle\"/><g class=\"g-ytitle\"/></g></svg>"
      ]
     },
     "metadata": {},
     "output_type": "display_data"
    }
   ],
   "source": [
    "data_final.reset_index(inplace=True,drop=True)\n",
    "data_final.head()\n",
    "fig = go.Figure()\n",
    "# fig = px.bar(data_final,x=data_final['类别'],y=data_final['口味_norm'],template='seaborn')\n",
    "fig.add_trace(go.Bar(x=data_final['类别'],y=data_final['口味_norm'],name='口味_norm'))\n",
    "fig.add_trace(go.Bar(x=data_final['类别'],y=data_final['性价比_norm'],name='性价比_norm'))\n",
    "fig.update_layout(barmode='group',template='seaborn',title='各式菜系对比')\n",
    "fig.show(renderer='svg')"
   ]
  }
 ],
 "metadata": {
  "anaconda-cloud": {},
  "kernelspec": {
   "display_name": "Python 3",
   "language": "python",
   "name": "python3"
  },
  "language_info": {
   "codemirror_mode": {
    "name": "ipython",
    "version": 3
   },
   "file_extension": ".py",
   "mimetype": "text/x-python",
   "name": "python",
   "nbconvert_exporter": "python",
   "pygments_lexer": "ipython3",
   "version": "3.7.0"
  },
  "toc": {
   "base_numbering": 1,
   "nav_menu": {},
   "number_sections": true,
   "sideBar": true,
   "skip_h1_title": false,
   "title_cell": "Table of Contents",
   "title_sidebar": "Contents",
   "toc_cell": false,
   "toc_position": {},
   "toc_section_display": true,
   "toc_window_display": false
  }
 },
 "nbformat": 4,
 "nbformat_minor": 1
}
