{
 "cells": [
  {
   "cell_type": "code",
   "execution_count": null,
   "metadata": {
    "collapsed": true
   },
   "outputs": [],
   "source": [
    "'''\n",
    "【项目08】  电商打折套路解析\n",
    "\n",
    "作业要求\n",
    "1、从现有数据中，分析出“各个品牌都有多少商品参加了双十一活动？”\n",
    "要求：\n",
    "① 计算得到：商品总数、品牌总数\n",
    "② 双十一当天在售的商品占比情况（思考：是不是只有双十一当天在售的商品是“参与双十一活动的商品？”）\n",
    "③ 未参与双十一当天活动的商品，在双十一之后的去向如何？\n",
    "④ 真正参与双十一活动的品牌有哪些？其各个品牌参与双十一活动的商品数量分布是怎样的？\n",
    "   * 用bokeh绘制柱状图表示\n",
    "提示：\n",
    "① 数据的“id”字段为商品的实际唯一标识，“title”字段则为商品在网页上显示的名称\n",
    "   * 仔细看数据可以发现，同一个id的title不一定一样（双十一前后）\n",
    "② 数据的“店名”字段为品牌的唯一标识\n",
    "③ 按照商品销售节奏分类，我们可以将商品分为7类\n",
    "   A. 11.11前后及当天都在售 → 一直在售\n",
    "   B. 11.11之后停止销售 → 双十一后停止销售\n",
    "   C. 11.11开始销售并当天不停止 → 双十一当天上架并持续在售\n",
    "   D. 11.11开始销售且当天停止 → 仅双十一当天有售\n",
    "   E. 11.5 - 11.10 → 双十一前停止销售\n",
    "   F. 仅11.11当天停止销售 → 仅双十一当天停止销售\n",
    "   G. 11.12开始销售 → 双十一后上架\n",
    "④ 未参与双十一当天活动的商品，可能有四种情况：\n",
    "   con1 → 暂时下架（F）\n",
    "   con2 → 重新上架（E中部分数据，数据中同一个id可能有不同title，“换个马甲重新上架”），字符串查找特定字符 dataframe.str.contains('预售')\n",
    "   con3 → 预售（E中部分数据，预售商品的title中包含“预售”二字）\n",
    "   con4 → 彻底下架（E中部分数据），可忽略\n",
    "⑤ 真正参加活动的商品 = 双十一当天在售的商品 + 预售商品 （可以尝试结果去重）\n",
    "   通过上述几个指标计算，研究出哪些是真正参与双十一活动的品牌，且其商品数量是多少\n",
    "   \n",
    "2、哪些商品真的在打折呢？\n",
    "要求：\n",
    "① 针对每个商品，评估其打折的情况\n",
    "② 针对在打折的商品，其折扣率是多少\n",
    "   * 用bokeh绘制折线图：x轴为折扣率，y轴为商品数量\n",
    "③ 按照品牌分析，不同品牌的打折力度\n",
    "   * 用bokeh绘制浮动散点图，y坐标为品牌类型，x坐标为折扣力度\n",
    "提示：\n",
    "① 打折情况评估方法：\n",
    "   真打折：商品的价格在10天内有波动、双11价格为10天内最低价、不存在涨价现象\n",
    "   不打折：商品价格无变化\n",
    "② 针对每个商品做price字段的value值统计，查看价格是否有波动，可以先用pd.cut将date分为不同周期：'双十一前','双十一当天','双十一后'，得到period字段\n",
    "   data[['id','price','date']].groupby(['id','price']).min()\n",
    "   针对统计出来的结果，如果按照id和price分组仍只有一个唯一值，则说明价格未变，没打折；否则为打折\n",
    "③ 折扣率 = 双十一当天价格 / 双十一之前价格\n",
    "④ 作图过程中，清除掉折扣率大于95%的数据\n",
    "\n",
    "3、商家营销套路挖掘？\n",
    "要求：\n",
    "① 解析出不同品牌的参与打折商品比例及折扣力度，并\n",
    "\n",
    "\n",
    "'''"
   ]
  },
  {
   "cell_type": "code",
   "execution_count": 2,
   "metadata": {
    "ExecuteTime": {
     "end_time": "2020-07-10T03:42:08.392753Z",
     "start_time": "2020-07-10T03:42:01.622338Z"
    }
   },
   "outputs": [],
   "source": [
    "import numpy as np\n",
    "import pandas as pd\n",
    "import matplotlib.pyplot as plt\n",
    "import plotly.express as px\n",
    "from datetime import datetime\n",
    "% matplotlib inline\n",
    "\n",
    "import warnings\n",
    "warnings.filterwarnings('ignore') \n"
   ]
  },
  {
   "cell_type": "code",
   "execution_count": 85,
   "metadata": {
    "ExecuteTime": {
     "end_time": "2020-07-13T03:18:16.834134Z",
     "start_time": "2020-07-13T03:18:10.541770Z"
    }
   },
   "outputs": [
    {
     "name": "stdout",
     "output_type": "stream",
     "text": [
      "商品总数为:3502个 \n",
      "-----\n",
      "品牌总数为:22个 \n",
      "-----\n",
      "双十一当天在售商品2335个 占比0.667 \n",
      "-----\n",
      "双11后重新上架商品数:326 \n",
      "------\n",
      "双11后下架商品数:841 \n",
      "-----\n",
      "双11预售商品数485 \n",
      "-----\n",
      "真正参加活动的商品数:2789 占比0.796\n",
      "   brand  商品总数  参与活动商品数  预售商品数\n",
      "0   SKII    62     40.0   15.0\n",
      "1    佰草集   279    208.0   32.0\n",
      "2     倩碧   211    144.0   51.0\n",
      "3     兰芝   157    105.0    4.0\n",
      "4     兰蔻   168    112.0   28.0\n",
      "5    妮维雅   156    127.0   15.0\n",
      "6     娇兰   147     89.0   54.0\n",
      "7   悦诗风吟   330    282.0   10.0\n",
      "8    植村秀    97     61.0   26.0\n",
      "9    欧珀莱   184    114.0   21.0\n",
      "10   欧莱雅   247    188.0   22.0\n",
      "11   玉兰油   142     64.0   15.0\n",
      "12  相宜本草   167     92.0   18.0\n",
      "13   美加净   188    124.0    2.0\n",
      "14   美宝莲   102     67.0   23.0\n",
      "15   自然堂   184     95.0   15.0\n",
      "16    薇姿   101     49.0   22.0\n",
      "17  蜜丝佛陀    54     35.0   16.0\n",
      "18   资生堂   133     62.0   30.0\n",
      "19    雅漾    79     58.0    9.0\n",
      "20  雅诗兰黛   246    170.0   40.0\n",
      "21   雪花秀    69     50.0   17.0\n"
     ]
    },
    {
     "data": {
      "image/svg+xml": [
       "<svg class=\"main-svg\" xmlns=\"http://www.w3.org/2000/svg\" xmlns:xlink=\"http://www.w3.org/1999/xlink\" width=\"700\" height=\"450\" style=\"\" viewBox=\"0 0 700 450\"><rect x=\"0\" y=\"0\" width=\"700\" height=\"450\" style=\"fill: rgb(255, 255, 255); fill-opacity: 1;\"/><defs id=\"defs-307580\"><g class=\"clips\"><clipPath id=\"clip307580xyplot\" class=\"plotclip\"><rect width=\"469\" height=\"257\"/></clipPath><clipPath class=\"axesclip\" id=\"clip307580x\"><rect x=\"80\" y=\"0\" width=\"469\" height=\"450\"/></clipPath><clipPath class=\"axesclip\" id=\"clip307580y\"><rect x=\"0\" y=\"100\" width=\"700\" height=\"257\"/></clipPath><clipPath class=\"axesclip\" id=\"clip307580xy\"><rect x=\"80\" y=\"100\" width=\"469\" height=\"257\"/></clipPath></g><g class=\"gradients\"/></defs><g class=\"bglayer\"><rect class=\"bg\" x=\"80\" y=\"100\" width=\"469\" height=\"257\" style=\"fill: rgb(234, 234, 242); fill-opacity: 1; stroke-width: 0;\"/></g><g class=\"layer-below\"><g class=\"imagelayer\"/><g class=\"shapelayer\"/></g><g class=\"cartesianlayer\"><g class=\"subplot xy\"><g class=\"layer-subplot\"><g class=\"shapelayer\"/><g class=\"imagelayer\"/></g><g class=\"gridlayer\"><g class=\"x\"><path class=\"xgrid crisp\" transform=\"translate(90.66,0)\" d=\"M0,100v257\" style=\"stroke: rgb(255, 255, 255); stroke-opacity: 1; stroke-width: 1px;\"/><path class=\"xgrid crisp\" transform=\"translate(111.98,0)\" d=\"M0,100v257\" style=\"stroke: rgb(255, 255, 255); stroke-opacity: 1; stroke-width: 1px;\"/><path class=\"xgrid crisp\" transform=\"translate(133.3,0)\" d=\"M0,100v257\" style=\"stroke: rgb(255, 255, 255); stroke-opacity: 1; stroke-width: 1px;\"/><path class=\"xgrid crisp\" transform=\"translate(154.61,0)\" d=\"M0,100v257\" style=\"stroke: rgb(255, 255, 255); stroke-opacity: 1; stroke-width: 1px;\"/><path class=\"xgrid crisp\" transform=\"translate(175.93,0)\" d=\"M0,100v257\" style=\"stroke: rgb(255, 255, 255); stroke-opacity: 1; stroke-width: 1px;\"/><path class=\"xgrid crisp\" transform=\"translate(197.25,0)\" d=\"M0,100v257\" style=\"stroke: rgb(255, 255, 255); stroke-opacity: 1; stroke-width: 1px;\"/><path class=\"xgrid crisp\" transform=\"translate(218.57,0)\" d=\"M0,100v257\" style=\"stroke: rgb(255, 255, 255); stroke-opacity: 1; stroke-width: 1px;\"/><path class=\"xgrid crisp\" transform=\"translate(239.89,0)\" d=\"M0,100v257\" style=\"stroke: rgb(255, 255, 255); stroke-opacity: 1; stroke-width: 1px;\"/><path class=\"xgrid crisp\" transform=\"translate(261.2,0)\" d=\"M0,100v257\" style=\"stroke: rgb(255, 255, 255); stroke-opacity: 1; stroke-width: 1px;\"/><path class=\"xgrid crisp\" transform=\"translate(282.52,0)\" d=\"M0,100v257\" style=\"stroke: rgb(255, 255, 255); stroke-opacity: 1; stroke-width: 1px;\"/><path class=\"xgrid crisp\" transform=\"translate(303.84000000000003,0)\" d=\"M0,100v257\" style=\"stroke: rgb(255, 255, 255); stroke-opacity: 1; stroke-width: 1px;\"/><path class=\"xgrid crisp\" transform=\"translate(325.15999999999997,0)\" d=\"M0,100v257\" style=\"stroke: rgb(255, 255, 255); stroke-opacity: 1; stroke-width: 1px;\"/><path class=\"xgrid crisp\" transform=\"translate(346.48,0)\" d=\"M0,100v257\" style=\"stroke: rgb(255, 255, 255); stroke-opacity: 1; stroke-width: 1px;\"/><path class=\"xgrid crisp\" transform=\"translate(367.8,0)\" d=\"M0,100v257\" style=\"stroke: rgb(255, 255, 255); stroke-opacity: 1; stroke-width: 1px;\"/><path class=\"xgrid crisp\" transform=\"translate(389.11,0)\" d=\"M0,100v257\" style=\"stroke: rgb(255, 255, 255); stroke-opacity: 1; stroke-width: 1px;\"/><path class=\"xgrid crisp\" transform=\"translate(410.43,0)\" d=\"M0,100v257\" style=\"stroke: rgb(255, 255, 255); stroke-opacity: 1; stroke-width: 1px;\"/><path class=\"xgrid crisp\" transform=\"translate(431.75,0)\" d=\"M0,100v257\" style=\"stroke: rgb(255, 255, 255); stroke-opacity: 1; stroke-width: 1px;\"/><path class=\"xgrid crisp\" transform=\"translate(453.07,0)\" d=\"M0,100v257\" style=\"stroke: rgb(255, 255, 255); stroke-opacity: 1; stroke-width: 1px;\"/><path class=\"xgrid crisp\" transform=\"translate(474.39,0)\" d=\"M0,100v257\" style=\"stroke: rgb(255, 255, 255); stroke-opacity: 1; stroke-width: 1px;\"/><path class=\"xgrid crisp\" transform=\"translate(495.7,0)\" d=\"M0,100v257\" style=\"stroke: rgb(255, 255, 255); stroke-opacity: 1; stroke-width: 1px;\"/><path class=\"xgrid crisp\" transform=\"translate(517.02,0)\" d=\"M0,100v257\" style=\"stroke: rgb(255, 255, 255); stroke-opacity: 1; stroke-width: 1px;\"/><path class=\"xgrid crisp\" transform=\"translate(538.3399999999999,0)\" d=\"M0,100v257\" style=\"stroke: rgb(255, 255, 255); stroke-opacity: 1; stroke-width: 1px;\"/></g><g class=\"y\"><path class=\"ygrid crisp\" transform=\"translate(0,313.71000000000004)\" d=\"M80,0h469\" style=\"stroke: rgb(255, 255, 255); stroke-opacity: 1; stroke-width: 1px;\"/><path class=\"ygrid crisp\" transform=\"translate(0,270.41999999999996)\" d=\"M80,0h469\" style=\"stroke: rgb(255, 255, 255); stroke-opacity: 1; stroke-width: 1px;\"/><path class=\"ygrid crisp\" transform=\"translate(0,227.13)\" d=\"M80,0h469\" style=\"stroke: rgb(255, 255, 255); stroke-opacity: 1; stroke-width: 1px;\"/><path class=\"ygrid crisp\" transform=\"translate(0,183.84)\" d=\"M80,0h469\" style=\"stroke: rgb(255, 255, 255); stroke-opacity: 1; stroke-width: 1px;\"/><path class=\"ygrid crisp\" transform=\"translate(0,140.55)\" d=\"M80,0h469\" style=\"stroke: rgb(255, 255, 255); stroke-opacity: 1; stroke-width: 1px;\"/></g></g><g class=\"zerolinelayer\"><path class=\"yzl zl crisp\" transform=\"translate(0,357)\" d=\"M80,0h469\" style=\"stroke: rgb(255, 255, 255); stroke-opacity: 1; stroke-width: 1px;\"/></g><path class=\"xlines-below\"/><path class=\"ylines-below\"/><g class=\"overlines-below\"/><g class=\"xaxislayer-below\"/><g class=\"yaxislayer-below\"/><g class=\"overaxes-below\"/><g class=\"plot\" transform=\"translate(80, 100)\" clip-path=\"url('#clip307580xyplot')\"><g class=\"barlayer mlayer\"><g class=\"trace bars\" style=\"opacity: 1;\"><g class=\"points\"><g class=\"point\"><path d=\"M2.13,257V222.37H19.19V257Z\" style=\"vector-effect: non-scaling-stroke; opacity: 0.5; stroke-width: 0.5px; fill: rgb(76, 114, 176); fill-opacity: 1; stroke: rgb(234, 234, 242); stroke-opacity: 1;\"/></g><g class=\"point\"><path d=\"M23.45,257V76.92H40.5V257Z\" style=\"vector-effect: non-scaling-stroke; opacity: 0.5; stroke-width: 0.5px; fill: rgb(76, 114, 176); fill-opacity: 1; stroke: rgb(234, 234, 242); stroke-opacity: 1;\"/></g><g class=\"point\"><path d=\"M44.77,257V132.33H61.82V257Z\" style=\"vector-effect: non-scaling-stroke; opacity: 0.5; stroke-width: 0.5px; fill: rgb(76, 114, 176); fill-opacity: 1; stroke: rgb(234, 234, 242); stroke-opacity: 1;\"/></g><g class=\"point\"><path d=\"M66.09,257V166.09H83.14V257Z\" style=\"vector-effect: non-scaling-stroke; opacity: 0.5; stroke-width: 0.5px; fill: rgb(76, 114, 176); fill-opacity: 1; stroke: rgb(234, 234, 242); stroke-opacity: 1;\"/></g><g class=\"point\"><path d=\"M87.4,257V160.03H104.46V257Z\" style=\"vector-effect: non-scaling-stroke; opacity: 0.5; stroke-width: 0.5px; fill: rgb(76, 114, 176); fill-opacity: 1; stroke: rgb(234, 234, 242); stroke-opacity: 1;\"/></g><g class=\"point\"><path d=\"M108.72,257V147.05H125.78V257Z\" style=\"vector-effect: non-scaling-stroke; opacity: 0.5; stroke-width: 0.5px; fill: rgb(76, 114, 176); fill-opacity: 1; stroke: rgb(234, 234, 242); stroke-opacity: 1;\"/></g><g class=\"point\"><path d=\"M130.04,257V179.95H147.1V257Z\" style=\"vector-effect: non-scaling-stroke; opacity: 0.5; stroke-width: 0.5px; fill: rgb(76, 114, 176); fill-opacity: 1; stroke: rgb(234, 234, 242); stroke-opacity: 1;\"/></g><g class=\"point\"><path d=\"M151.36,257V12.85H168.41V257Z\" style=\"vector-effect: non-scaling-stroke; opacity: 0.5; stroke-width: 0.5px; fill: rgb(76, 114, 176); fill-opacity: 1; stroke: rgb(234, 234, 242); stroke-opacity: 1;\"/></g><g class=\"point\"><path d=\"M172.68,257V204.19H189.73V257Z\" style=\"vector-effect: non-scaling-stroke; opacity: 0.5; stroke-width: 0.5px; fill: rgb(76, 114, 176); fill-opacity: 1; stroke: rgb(234, 234, 242); stroke-opacity: 1;\"/></g><g class=\"point\"><path d=\"M194,257V158.3H211.05V257Z\" style=\"vector-effect: non-scaling-stroke; opacity: 0.5; stroke-width: 0.5px; fill: rgb(76, 114, 176); fill-opacity: 1; stroke: rgb(234, 234, 242); stroke-opacity: 1;\"/></g><g class=\"point\"><path d=\"M215.31,257V94.23H232.37V257Z\" style=\"vector-effect: non-scaling-stroke; opacity: 0.5; stroke-width: 0.5px; fill: rgb(76, 114, 176); fill-opacity: 1; stroke: rgb(234, 234, 242); stroke-opacity: 1;\"/></g><g class=\"point\"><path d=\"M236.63,257V201.59H253.69V257Z\" style=\"vector-effect: non-scaling-stroke; opacity: 0.5; stroke-width: 0.5px; fill: rgb(76, 114, 176); fill-opacity: 1; stroke: rgb(234, 234, 242); stroke-opacity: 1;\"/></g><g class=\"point\"><path d=\"M257.95,257V177.35H275V257Z\" style=\"vector-effect: non-scaling-stroke; opacity: 0.5; stroke-width: 0.5px; fill: rgb(76, 114, 176); fill-opacity: 1; stroke: rgb(234, 234, 242); stroke-opacity: 1;\"/></g><g class=\"point\"><path d=\"M279.27,257V149.64H296.32V257Z\" style=\"vector-effect: non-scaling-stroke; opacity: 0.5; stroke-width: 0.5px; fill: rgb(76, 114, 176); fill-opacity: 1; stroke: rgb(234, 234, 242); stroke-opacity: 1;\"/></g><g class=\"point\"><path d=\"M300.59,257V198.99H317.64V257Z\" style=\"vector-effect: non-scaling-stroke; opacity: 0.5; stroke-width: 0.5px; fill: rgb(76, 114, 176); fill-opacity: 1; stroke: rgb(234, 234, 242); stroke-opacity: 1;\"/></g><g class=\"point\"><path d=\"M321.9,257V174.75H338.96V257Z\" style=\"vector-effect: non-scaling-stroke; opacity: 0.5; stroke-width: 0.5px; fill: rgb(76, 114, 176); fill-opacity: 1; stroke: rgb(234, 234, 242); stroke-opacity: 1;\"/></g><g class=\"point\"><path d=\"M343.22,257V214.58H360.28V257Z\" style=\"vector-effect: non-scaling-stroke; opacity: 0.5; stroke-width: 0.5px; fill: rgb(76, 114, 176); fill-opacity: 1; stroke: rgb(234, 234, 242); stroke-opacity: 1;\"/></g><g class=\"point\"><path d=\"M364.54,257V226.7H381.6V257Z\" style=\"vector-effect: non-scaling-stroke; opacity: 0.5; stroke-width: 0.5px; fill: rgb(76, 114, 176); fill-opacity: 1; stroke: rgb(234, 234, 242); stroke-opacity: 1;\"/></g><g class=\"point\"><path d=\"M385.86,257V203.32H402.91V257Z\" style=\"vector-effect: non-scaling-stroke; opacity: 0.5; stroke-width: 0.5px; fill: rgb(76, 114, 176); fill-opacity: 1; stroke: rgb(234, 234, 242); stroke-opacity: 1;\"/></g><g class=\"point\"><path d=\"M407.18,257V206.78H424.23V257Z\" style=\"vector-effect: non-scaling-stroke; opacity: 0.5; stroke-width: 0.5px; fill: rgb(76, 114, 176); fill-opacity: 1; stroke: rgb(234, 234, 242); stroke-opacity: 1;\"/></g><g class=\"point\"><path d=\"M428.5,257V109.82H445.55V257Z\" style=\"vector-effect: non-scaling-stroke; opacity: 0.5; stroke-width: 0.5px; fill: rgb(76, 114, 176); fill-opacity: 1; stroke: rgb(234, 234, 242); stroke-opacity: 1;\"/></g><g class=\"point\"><path d=\"M449.81,257V213.71H466.87V257Z\" style=\"vector-effect: non-scaling-stroke; opacity: 0.5; stroke-width: 0.5px; fill: rgb(76, 114, 176); fill-opacity: 1; stroke: rgb(234, 234, 242); stroke-opacity: 1;\"/></g></g></g><g class=\"trace bars\" style=\"opacity: 1;\"><g class=\"points\"><g class=\"point\"><path d=\"M2.13,257V244.01H19.19V257Z\" style=\"vector-effect: non-scaling-stroke; opacity: 0.5; stroke-width: 0.5px; fill: rgb(221, 132, 82); fill-opacity: 1; stroke: rgb(234, 234, 242); stroke-opacity: 1;\"/></g><g class=\"point\"><path d=\"M23.45,257V229.3H40.5V257Z\" style=\"vector-effect: non-scaling-stroke; opacity: 0.5; stroke-width: 0.5px; fill: rgb(221, 132, 82); fill-opacity: 1; stroke: rgb(234, 234, 242); stroke-opacity: 1;\"/></g><g class=\"point\"><path d=\"M44.77,257V212.85H61.82V257Z\" style=\"vector-effect: non-scaling-stroke; opacity: 0.5; stroke-width: 0.5px; fill: rgb(221, 132, 82); fill-opacity: 1; stroke: rgb(234, 234, 242); stroke-opacity: 1;\"/></g><g class=\"point\"><path d=\"M66.09,257V253.54H83.14V257Z\" style=\"vector-effect: non-scaling-stroke; opacity: 0.5; stroke-width: 0.5px; fill: rgb(221, 132, 82); fill-opacity: 1; stroke: rgb(234, 234, 242); stroke-opacity: 1;\"/></g><g class=\"point\"><path d=\"M87.4,257V232.76H104.46V257Z\" style=\"vector-effect: non-scaling-stroke; opacity: 0.5; stroke-width: 0.5px; fill: rgb(221, 132, 82); fill-opacity: 1; stroke: rgb(234, 234, 242); stroke-opacity: 1;\"/></g><g class=\"point\"><path d=\"M108.72,257V244.01H125.78V257Z\" style=\"vector-effect: non-scaling-stroke; opacity: 0.5; stroke-width: 0.5px; fill: rgb(221, 132, 82); fill-opacity: 1; stroke: rgb(234, 234, 242); stroke-opacity: 1;\"/></g><g class=\"point\"><path d=\"M130.04,257V210.25H147.1V257Z\" style=\"vector-effect: non-scaling-stroke; opacity: 0.5; stroke-width: 0.5px; fill: rgb(221, 132, 82); fill-opacity: 1; stroke: rgb(234, 234, 242); stroke-opacity: 1;\"/></g><g class=\"point\"><path d=\"M151.36,257V248.34H168.41V257Z\" style=\"vector-effect: non-scaling-stroke; opacity: 0.5; stroke-width: 0.5px; fill: rgb(221, 132, 82); fill-opacity: 1; stroke: rgb(234, 234, 242); stroke-opacity: 1;\"/></g><g class=\"point\"><path d=\"M172.68,257V234.49H189.73V257Z\" style=\"vector-effect: non-scaling-stroke; opacity: 0.5; stroke-width: 0.5px; fill: rgb(221, 132, 82); fill-opacity: 1; stroke: rgb(234, 234, 242); stroke-opacity: 1;\"/></g><g class=\"point\"><path d=\"M194,257V238.82H211.05V257Z\" style=\"vector-effect: non-scaling-stroke; opacity: 0.5; stroke-width: 0.5px; fill: rgb(221, 132, 82); fill-opacity: 1; stroke: rgb(234, 234, 242); stroke-opacity: 1;\"/></g><g class=\"point\"><path d=\"M215.31,257V237.95H232.37V257Z\" style=\"vector-effect: non-scaling-stroke; opacity: 0.5; stroke-width: 0.5px; fill: rgb(221, 132, 82); fill-opacity: 1; stroke: rgb(234, 234, 242); stroke-opacity: 1;\"/></g><g class=\"point\"><path d=\"M236.63,257V244.01H253.69V257Z\" style=\"vector-effect: non-scaling-stroke; opacity: 0.5; stroke-width: 0.5px; fill: rgb(221, 132, 82); fill-opacity: 1; stroke: rgb(234, 234, 242); stroke-opacity: 1;\"/></g><g class=\"point\"><path d=\"M257.95,257V241.42H275V257Z\" style=\"vector-effect: non-scaling-stroke; opacity: 0.5; stroke-width: 0.5px; fill: rgb(221, 132, 82); fill-opacity: 1; stroke: rgb(234, 234, 242); stroke-opacity: 1;\"/></g><g class=\"point\"><path d=\"M279.27,257V255.27H296.32V257Z\" style=\"vector-effect: non-scaling-stroke; opacity: 0.5; stroke-width: 0.5px; fill: rgb(221, 132, 82); fill-opacity: 1; stroke: rgb(234, 234, 242); stroke-opacity: 1;\"/></g><g class=\"point\"><path d=\"M300.59,257V237.09H317.64V257Z\" style=\"vector-effect: non-scaling-stroke; opacity: 0.5; stroke-width: 0.5px; fill: rgb(221, 132, 82); fill-opacity: 1; stroke: rgb(234, 234, 242); stroke-opacity: 1;\"/></g><g class=\"point\"><path d=\"M321.9,257V244.01H338.96V257Z\" style=\"vector-effect: non-scaling-stroke; opacity: 0.5; stroke-width: 0.5px; fill: rgb(221, 132, 82); fill-opacity: 1; stroke: rgb(234, 234, 242); stroke-opacity: 1;\"/></g><g class=\"point\"><path d=\"M343.22,257V237.95H360.28V257Z\" style=\"vector-effect: non-scaling-stroke; opacity: 0.5; stroke-width: 0.5px; fill: rgb(221, 132, 82); fill-opacity: 1; stroke: rgb(234, 234, 242); stroke-opacity: 1;\"/></g><g class=\"point\"><path d=\"M364.54,257V243.15H381.6V257Z\" style=\"vector-effect: non-scaling-stroke; opacity: 0.5; stroke-width: 0.5px; fill: rgb(221, 132, 82); fill-opacity: 1; stroke: rgb(234, 234, 242); stroke-opacity: 1;\"/></g><g class=\"point\"><path d=\"M385.86,257V231.03H402.91V257Z\" style=\"vector-effect: non-scaling-stroke; opacity: 0.5; stroke-width: 0.5px; fill: rgb(221, 132, 82); fill-opacity: 1; stroke: rgb(234, 234, 242); stroke-opacity: 1;\"/></g><g class=\"point\"><path d=\"M407.18,257V249.21H424.23V257Z\" style=\"vector-effect: non-scaling-stroke; opacity: 0.5; stroke-width: 0.5px; fill: rgb(221, 132, 82); fill-opacity: 1; stroke: rgb(234, 234, 242); stroke-opacity: 1;\"/></g><g class=\"point\"><path d=\"M428.5,257V222.37H445.55V257Z\" style=\"vector-effect: non-scaling-stroke; opacity: 0.5; stroke-width: 0.5px; fill: rgb(221, 132, 82); fill-opacity: 1; stroke: rgb(234, 234, 242); stroke-opacity: 1;\"/></g><g class=\"point\"><path d=\"M449.81,257V242.28H466.87V257Z\" style=\"vector-effect: non-scaling-stroke; opacity: 0.5; stroke-width: 0.5px; fill: rgb(221, 132, 82); fill-opacity: 1; stroke: rgb(234, 234, 242); stroke-opacity: 1;\"/></g></g></g></g></g><g class=\"overplot\"/><path class=\"xlines-above crisp\" style=\"fill: none;\" d=\"M0,0\"/><path class=\"ylines-above crisp\" style=\"fill: none;\" d=\"M0,0\"/><g class=\"overlines-above\"/><g class=\"xaxislayer-above\"><g class=\"xtick\"><text text-anchor=\"start\" x=\"0\" y=\"370\" transform=\"translate(90.66,0) rotate(90,0,364)\" style=\"font-family: 'Open Sans', verdana, arial, sans-serif; font-size: 12px; fill: rgb(36, 36, 36); fill-opacity: 1; white-space: pre;\">SKII</text></g><g class=\"xtick\"><text text-anchor=\"start\" x=\"0\" y=\"370\" transform=\"translate(111.98,0) rotate(90,0,364)\" style=\"font-family: 'Open Sans', verdana, arial, sans-serif; font-size: 12px; fill: rgb(36, 36, 36); fill-opacity: 1; white-space: pre;\">佰草集</text></g><g class=\"xtick\"><text text-anchor=\"start\" x=\"0\" y=\"370\" transform=\"translate(133.3,0) rotate(90,0,364)\" style=\"font-family: 'Open Sans', verdana, arial, sans-serif; font-size: 12px; fill: rgb(36, 36, 36); fill-opacity: 1; white-space: pre;\">倩碧</text></g><g class=\"xtick\"><text text-anchor=\"start\" x=\"0\" y=\"370\" transform=\"translate(154.61,0) rotate(90,0,364)\" style=\"font-family: 'Open Sans', verdana, arial, sans-serif; font-size: 12px; fill: rgb(36, 36, 36); fill-opacity: 1; white-space: pre;\">兰芝</text></g><g class=\"xtick\"><text text-anchor=\"start\" x=\"0\" y=\"370\" transform=\"translate(175.93,0) rotate(90,0,364)\" style=\"font-family: 'Open Sans', verdana, arial, sans-serif; font-size: 12px; fill: rgb(36, 36, 36); fill-opacity: 1; white-space: pre;\">兰蔻</text></g><g class=\"xtick\"><text text-anchor=\"start\" x=\"0\" y=\"370\" transform=\"translate(197.25,0) rotate(90,0,364)\" style=\"font-family: 'Open Sans', verdana, arial, sans-serif; font-size: 12px; fill: rgb(36, 36, 36); fill-opacity: 1; white-space: pre;\">妮维雅</text></g><g class=\"xtick\"><text text-anchor=\"start\" x=\"0\" y=\"370\" transform=\"translate(218.57,0) rotate(90,0,364)\" style=\"font-family: 'Open Sans', verdana, arial, sans-serif; font-size: 12px; fill: rgb(36, 36, 36); fill-opacity: 1; white-space: pre;\">娇兰</text></g><g class=\"xtick\"><text text-anchor=\"start\" x=\"0\" y=\"370\" transform=\"translate(239.89,0) rotate(90,0,364)\" style=\"font-family: 'Open Sans', verdana, arial, sans-serif; font-size: 12px; fill: rgb(36, 36, 36); fill-opacity: 1; white-space: pre;\">悦诗风吟</text></g><g class=\"xtick\"><text text-anchor=\"start\" x=\"0\" y=\"370\" transform=\"translate(261.2,0) rotate(90,0,364)\" style=\"font-family: 'Open Sans', verdana, arial, sans-serif; font-size: 12px; fill: rgb(36, 36, 36); fill-opacity: 1; white-space: pre;\">植村秀</text></g><g class=\"xtick\"><text text-anchor=\"start\" x=\"0\" y=\"370\" transform=\"translate(282.52,0) rotate(90,0,364)\" style=\"font-family: 'Open Sans', verdana, arial, sans-serif; font-size: 12px; fill: rgb(36, 36, 36); fill-opacity: 1; white-space: pre;\">欧珀莱</text></g><g class=\"xtick\"><text text-anchor=\"start\" x=\"0\" y=\"370\" transform=\"translate(303.84000000000003,0) rotate(90,0,364)\" style=\"font-family: 'Open Sans', verdana, arial, sans-serif; font-size: 12px; fill: rgb(36, 36, 36); fill-opacity: 1; white-space: pre;\">欧莱雅</text></g><g class=\"xtick\"><text text-anchor=\"start\" x=\"0\" y=\"370\" transform=\"translate(325.15999999999997,0) rotate(90,0,364)\" style=\"font-family: 'Open Sans', verdana, arial, sans-serif; font-size: 12px; fill: rgb(36, 36, 36); fill-opacity: 1; white-space: pre;\">玉兰油</text></g><g class=\"xtick\"><text text-anchor=\"start\" x=\"0\" y=\"370\" transform=\"translate(346.48,0) rotate(90,0,364)\" style=\"font-family: 'Open Sans', verdana, arial, sans-serif; font-size: 12px; fill: rgb(36, 36, 36); fill-opacity: 1; white-space: pre;\">相宜本草</text></g><g class=\"xtick\"><text text-anchor=\"start\" x=\"0\" y=\"370\" transform=\"translate(367.8,0) rotate(90,0,364)\" style=\"font-family: 'Open Sans', verdana, arial, sans-serif; font-size: 12px; fill: rgb(36, 36, 36); fill-opacity: 1; white-space: pre;\">美加净</text></g><g class=\"xtick\"><text text-anchor=\"start\" x=\"0\" y=\"370\" transform=\"translate(389.11,0) rotate(90,0,364)\" style=\"font-family: 'Open Sans', verdana, arial, sans-serif; font-size: 12px; fill: rgb(36, 36, 36); fill-opacity: 1; white-space: pre;\">美宝莲</text></g><g class=\"xtick\"><text text-anchor=\"start\" x=\"0\" y=\"370\" transform=\"translate(410.43,0) rotate(90,0,364)\" style=\"font-family: 'Open Sans', verdana, arial, sans-serif; font-size: 12px; fill: rgb(36, 36, 36); fill-opacity: 1; white-space: pre;\">自然堂</text></g><g class=\"xtick\"><text text-anchor=\"start\" x=\"0\" y=\"370\" transform=\"translate(431.75,0) rotate(90,0,364)\" style=\"font-family: 'Open Sans', verdana, arial, sans-serif; font-size: 12px; fill: rgb(36, 36, 36); fill-opacity: 1; white-space: pre;\">薇姿</text></g><g class=\"xtick\"><text text-anchor=\"start\" x=\"0\" y=\"370\" transform=\"translate(453.07,0) rotate(90,0,364)\" style=\"font-family: 'Open Sans', verdana, arial, sans-serif; font-size: 12px; fill: rgb(36, 36, 36); fill-opacity: 1; white-space: pre;\">蜜丝佛陀</text></g><g class=\"xtick\"><text text-anchor=\"start\" x=\"0\" y=\"370\" transform=\"translate(474.39,0) rotate(90,0,364)\" style=\"font-family: 'Open Sans', verdana, arial, sans-serif; font-size: 12px; fill: rgb(36, 36, 36); fill-opacity: 1; white-space: pre;\">资生堂</text></g><g class=\"xtick\"><text text-anchor=\"start\" x=\"0\" y=\"370\" transform=\"translate(495.7,0) rotate(90,0,364)\" style=\"font-family: 'Open Sans', verdana, arial, sans-serif; font-size: 12px; fill: rgb(36, 36, 36); fill-opacity: 1; white-space: pre;\">雅漾</text></g><g class=\"xtick\"><text text-anchor=\"start\" x=\"0\" y=\"370\" transform=\"translate(517.02,0) rotate(90,0,364)\" style=\"font-family: 'Open Sans', verdana, arial, sans-serif; font-size: 12px; fill: rgb(36, 36, 36); fill-opacity: 1; white-space: pre;\">雅诗兰黛</text></g><g class=\"xtick\"><text text-anchor=\"start\" x=\"0\" y=\"370\" transform=\"translate(538.3399999999999,0) rotate(90,0,364)\" style=\"font-family: 'Open Sans', verdana, arial, sans-serif; font-size: 12px; fill: rgb(36, 36, 36); fill-opacity: 1; white-space: pre;\">雪花秀</text></g></g><g class=\"yaxislayer-above\"><g class=\"ytick\"><text text-anchor=\"end\" x=\"79\" y=\"4.199999999999999\" transform=\"translate(0,357)\" style=\"font-family: 'Open Sans', verdana, arial, sans-serif; font-size: 12px; fill: rgb(36, 36, 36); fill-opacity: 1; white-space: pre;\">0</text></g><g class=\"ytick\"><text text-anchor=\"end\" x=\"79\" y=\"4.199999999999999\" transform=\"translate(0,313.71000000000004)\" style=\"font-family: 'Open Sans', verdana, arial, sans-serif; font-size: 12px; fill: rgb(36, 36, 36); fill-opacity: 1; white-space: pre;\">50</text></g><g class=\"ytick\"><text text-anchor=\"end\" x=\"79\" y=\"4.199999999999999\" transform=\"translate(0,270.41999999999996)\" style=\"font-family: 'Open Sans', verdana, arial, sans-serif; font-size: 12px; fill: rgb(36, 36, 36); fill-opacity: 1; white-space: pre;\">100</text></g><g class=\"ytick\"><text text-anchor=\"end\" x=\"79\" y=\"4.199999999999999\" transform=\"translate(0,227.13)\" style=\"font-family: 'Open Sans', verdana, arial, sans-serif; font-size: 12px; fill: rgb(36, 36, 36); fill-opacity: 1; white-space: pre;\">150</text></g><g class=\"ytick\"><text text-anchor=\"end\" x=\"79\" y=\"4.199999999999999\" transform=\"translate(0,183.84)\" style=\"font-family: 'Open Sans', verdana, arial, sans-serif; font-size: 12px; fill: rgb(36, 36, 36); fill-opacity: 1; white-space: pre;\">200</text></g><g class=\"ytick\"><text text-anchor=\"end\" x=\"79\" y=\"4.199999999999999\" transform=\"translate(0,140.55)\" style=\"font-family: 'Open Sans', verdana, arial, sans-serif; font-size: 12px; fill: rgb(36, 36, 36); fill-opacity: 1; white-space: pre;\">250</text></g></g><g class=\"overaxes-above\"/></g></g><g class=\"polarlayer\"/><g class=\"ternarylayer\"/><g class=\"geolayer\"/><g class=\"funnelarealayer\"/><g class=\"pielayer\"/><g class=\"treemaplayer\"/><g class=\"sunburstlayer\"/><g class=\"glimages\"/><defs id=\"topdefs-307580\"><g class=\"clips\"/><clipPath id=\"legend307580\"><rect width=\"130\" height=\"64\" x=\"0\" y=\"0\"/></clipPath></defs><g class=\"layer-above\"><g class=\"imagelayer\"/><g class=\"shapelayer\"/></g><g class=\"infolayer\"><g class=\"legend\" pointer-events=\"all\" transform=\"translate(558.38, 100)\"><rect class=\"bg\" shape-rendering=\"crispEdges\" style=\"stroke: rgb(68, 68, 68); stroke-opacity: 1; fill: rgb(255, 255, 255); fill-opacity: 1; stroke-width: 0px;\" width=\"130\" height=\"64\" x=\"0\" y=\"0\"/><g class=\"scrollbox\" transform=\"translate(0, 0)\" clip-path=\"url('#legend307580')\"><text class=\"legendtitletext user-select-none\" text-anchor=\"start\" x=\"2\" y=\"15.600000000000001\" style=\"font-family: 'Open Sans', verdana, arial, sans-serif; font-size: 12px; fill: rgb(36, 36, 36); fill-opacity: 1; white-space: pre;\">variable</text><g class=\"groups\" transform=\"translate(0, 0)\"><g class=\"traces\" style=\"opacity: 1;\" transform=\"translate(0, 30.1)\"><text class=\"legendtext user-select-none\" text-anchor=\"start\" x=\"40\" y=\"4.680000000000001\" style=\"font-family: 'Open Sans', verdana, arial, sans-serif; font-size: 12px; fill: rgb(36, 36, 36); fill-opacity: 1; white-space: pre;\">参与活动商品数</text><g class=\"layers\" style=\"opacity: 1;\"><g class=\"legendfill\"/><g class=\"legendlines\"/><g class=\"legendsymbols\"><g class=\"legendpoints\"><path class=\"legendundefined\" d=\"M6,6H-6V-6H6Z\" transform=\"translate(20,0)\" style=\"stroke-width: 0.5px; fill: rgb(76, 114, 176); fill-opacity: 1; stroke: rgb(234, 234, 242); stroke-opacity: 1;\"/></g></g></g><rect class=\"legendtoggle\" pointer-events=\"all\" x=\"0\" y=\"-9.5\" width=\"124.8125\" height=\"19\" style=\"cursor: pointer; fill: rgb(0, 0, 0); fill-opacity: 0;\"/></g></g><g class=\"groups\" transform=\"translate(0, 0)\"><g class=\"traces\" style=\"opacity: 1;\" transform=\"translate(0, 49.1)\"><text class=\"legendtext user-select-none\" text-anchor=\"start\" x=\"40\" y=\"4.680000000000001\" style=\"font-family: 'Open Sans', verdana, arial, sans-serif; font-size: 12px; fill: rgb(36, 36, 36); fill-opacity: 1; white-space: pre;\">预售商品数</text><g class=\"layers\" style=\"opacity: 1;\"><g class=\"legendfill\"/><g class=\"legendlines\"/><g class=\"legendsymbols\"><g class=\"legendpoints\"><path class=\"legendundefined\" d=\"M6,6H-6V-6H6Z\" transform=\"translate(20,0)\" style=\"stroke-width: 0.5px; fill: rgb(221, 132, 82); fill-opacity: 1; stroke: rgb(234, 234, 242); stroke-opacity: 1;\"/></g></g></g><rect class=\"legendtoggle\" pointer-events=\"all\" x=\"0\" y=\"-9.5\" width=\"124.8125\" height=\"19\" style=\"cursor: pointer; fill: rgb(0, 0, 0); fill-opacity: 0;\"/></g></g></g><rect class=\"scrollbar\" rx=\"20\" ry=\"3\" width=\"0\" height=\"0\" style=\"fill: rgb(128, 139, 164); fill-opacity: 1;\" x=\"0\" y=\"0\"/></g><g class=\"g-gtitle\"><text class=\"gtitle\" x=\"350\" y=\"50\" text-anchor=\"middle\" dy=\"0em\" style=\"font-family: 'Open Sans', verdana, arial, sans-serif; font-size: 17px; fill: rgb(36, 36, 36); opacity: 1; font-weight: normal; white-space: pre;\">各个品牌参与双十一活动的商品数量分布</text></g><g class=\"g-xtitle\"><text class=\"xtitle\" x=\"314.5\" y=\"437.6125\" text-anchor=\"middle\" style=\"font-family: 'Open Sans', verdana, arial, sans-serif; font-size: 14px; fill: rgb(36, 36, 36); opacity: 1; font-weight: normal; white-space: pre;\">brand</text></g><g class=\"g-ytitle\"><text class=\"ytitle\" transform=\"rotate(-90,31.309375000000003,228.5)\" x=\"31.309375000000003\" y=\"228.5\" text-anchor=\"middle\" style=\"font-family: 'Open Sans', verdana, arial, sans-serif; font-size: 14px; fill: rgb(36, 36, 36); opacity: 1; font-weight: normal; white-space: pre;\">value</text></g></g></svg>"
      ]
     },
     "metadata": {},
     "output_type": "display_data"
    }
   ],
   "source": [
    "# 作业要求\n",
    "# 1、从现有数据中，分析出“各个品牌都有多少商品参加了双十一活动？”\n",
    "# 要求：\n",
    "# ① 计算得到：商品总数、品牌总数\n",
    "# ② 双十一当天在售的商品占比情况（思考：是不是只有双十一当天在售的商品是“参与双十一活动的商品？”）\n",
    "# ③ 未参与双十一当天活动的商品，在双十一之后的去向如何？\n",
    "# ④ 真正参与双十一活动的品牌有哪些？其各个品牌参与双十一活动的商品数量分布是怎样的？\n",
    "#    * 用bokeh绘制柱状图表示\n",
    "# 提示：\n",
    "# ① 数据的“id”字段为商品的实际唯一标识，“title”字段则为商品在网页上显示的名称\n",
    "#    * 仔细看数据可以发现，同一个id的title不一定一样（双十一前后）\n",
    "# ② 数据的“店名”字段为品牌的唯一标识\n",
    "# ③ 按照商品销售节奏分类，我们可以将商品分为7类\n",
    "#    A. 11.11前后及当天都在售 → 一直在售\n",
    "#    B. 11.11之后停止销售 → 双十一后停止销售\n",
    "#    C. 11.11开始销售并当天不停止 → 双十一当天上架并持续在售\n",
    "#    D. 11.11开始销售且当天停止 → 仅双十一当天有售\n",
    "#    E. 11.5 - 11.10 → 双十一前停止销售\n",
    "#    F. 仅11.11当天停止销售 → 仅双十一当天停止销售\n",
    "#    G. 11.12开始销售 → 双十一后上架\n",
    "# ④ 未参与双十一当天活动的商品，可能有四种情况：\n",
    "#    con1 → 暂时下架（F）\n",
    "#    con2 → 重新上架（E中部分数据，数据中同一个id可能有不同title，“换个马甲重新上架”），字符串查找特定字符 dataframe.str.contains('预售')\n",
    "#    con3 → 预售（E中部分数据，预售商品的title中包含“预售”二字）\n",
    "#    con4 → 彻底下架（E中部分数据），可忽略\n",
    "# ⑤ 真正参加活动的商品 = 双十一当天在售的商品 + 预售商品 （可以尝试结果去重）\n",
    "#    通过上述几个指标计算，研究出哪些是真正参与双十一活动的品牌，且其商品数量是多少\n",
    "\n",
    "data = pd.read_excel(r'D:\\BaiduNetdiskDownload\\项目08电商打折套路解析\\双十一淘宝美妆数据.xlsx')\n",
    "\n",
    "id_sum = data['id'].drop_duplicates().index\n",
    "print('商品总数为:%i个'%len(data['id'].drop_duplicates().index),'\\n-----')\n",
    "print('品牌总数为:%i个'%len(data['店名'].drop_duplicates().index),'\\n-----')\n",
    "\n",
    "data_11 = data[data['update_time']=='2016-11-11']\n",
    "id_11 = data_11['id'].drop_duplicates().index\n",
    "print('双十一当天在售商品%i个'%len(id_11),'占比%.3f'%(len(id_11)/len(id_sum)),'\\n-----')\n",
    "data_gp = data[['id','update_time']].groupby('id').agg(['min','max'])['update_time']\n",
    "\n",
    "id_11 = data[data['update_time']=='2016-11-11']['id']\n",
    "id_if_11 =pd.DataFrame({'id':id_11,'双11在售':1}) \n",
    "\n",
    "data_final = pd.merge(data_gp,id_if_11,on='id',how='left')\n",
    "data_final['双11在售'][data_final['双11在售']!=1]=0\n",
    "ys_11= data[data['title'].str.contains('预售')]['id'].unique()\n",
    "data_bsale=pd.DataFrame({'id':ys_11,'是否预售':1})\n",
    "data_final = pd.merge(data_final,data_bsale,on='id',how='left')\n",
    "data_final['是否预售'][data_final['是否预售']!=1]=0\n",
    "data_uniq = data.drop_duplicates('id')\n",
    "data_final = pd.merge(data_final,data_uniq[['id','店名']],on='id',how='left')\n",
    "print('双11后重新上架商品数:%i'%len(data_final[(data_final['双11在售']==0)&(data_final['max']>'2016-11-11')]),'\\n------')\n",
    "print('双11后下架商品数:%i'%len(data_final[(data_final['双11在售']==0)&(data_final['max']<'2016-11-11')]),'\\n-----')\n",
    "print('双11预售商品数%i'%len(data_final[data_final['是否预售']==1]),'\\n-----')\n",
    "ac_data = data_final[(data_final['双11在售']==1) | (data_final['是否预售']==1)]\n",
    "print('真正参加活动的商品数:%i'%len(ac_data),'占比%.3f'%(len(ac_data)/len(data_final)))\n",
    "data_brand = data_final.groupby('店名').agg({'id':'count','双11在售':'sum','是否预售':'sum'})\n",
    "data_brand.reset_index(inplace=True)\n",
    "data_brand.columns=['brand','商品总数','参与活动商品数','预售商品数']\n",
    "print(data_brand)\n",
    "fig = px.bar(data_brand,x='brand',y=['参与活动商品数','预售商品数'],barmode='overlay',\\\n",
    "             template='seaborn',title='各个品牌参与双十一活动的商品数量分布')\n",
    "fig.show(renderer='svg')"
   ]
  },
  {
   "cell_type": "code",
   "execution_count": 84,
   "metadata": {
    "ExecuteTime": {
     "end_time": "2020-07-10T08:44:41.773156Z",
     "start_time": "2020-07-10T08:44:41.108928Z"
    }
   },
   "outputs": [
    {
     "name": "stdout",
     "output_type": "stream",
     "text": [
      "--------\n",
      " 真打折的商品数量约占比24.73%，不打折的商品数量约占比75.27%\n"
     ]
    },
    {
     "data": {
      "image/svg+xml": [
       "<svg class=\"main-svg\" xmlns=\"http://www.w3.org/2000/svg\" xmlns:xlink=\"http://www.w3.org/1999/xlink\" width=\"700\" height=\"450\" style=\"\" viewBox=\"0 0 700 450\"><rect x=\"0\" y=\"0\" width=\"700\" height=\"450\" style=\"fill: rgb(255, 255, 255); fill-opacity: 1;\"/><defs id=\"defs-d45aab\"><g class=\"clips\"><clipPath id=\"clipd45aabxyplot\" class=\"plotclip\"><rect width=\"540\" height=\"270\"/></clipPath><clipPath class=\"axesclip\" id=\"clipd45aabx\"><rect x=\"80\" y=\"0\" width=\"540\" height=\"450\"/></clipPath><clipPath class=\"axesclip\" id=\"clipd45aaby\"><rect x=\"0\" y=\"100\" width=\"700\" height=\"270\"/></clipPath><clipPath class=\"axesclip\" id=\"clipd45aabxy\"><rect x=\"80\" y=\"100\" width=\"540\" height=\"270\"/></clipPath></g><g class=\"gradients\"/></defs><g class=\"bglayer\"><rect class=\"bg\" x=\"80\" y=\"100\" width=\"540\" height=\"270\" style=\"fill: rgb(234, 234, 242); fill-opacity: 1; stroke-width: 0;\"/></g><g class=\"layer-below\"><g class=\"imagelayer\"/><g class=\"shapelayer\"/></g><g class=\"cartesianlayer\"><g class=\"subplot xy\"><g class=\"layer-subplot\"><g class=\"shapelayer\"/><g class=\"imagelayer\"/></g><g class=\"gridlayer\"><g class=\"x\"><path class=\"xgrid crisp\" transform=\"translate(110.75,0)\" d=\"M0,100v270\" style=\"stroke: rgb(255, 255, 255); stroke-opacity: 1; stroke-width: 1px;\"/><path class=\"xgrid crisp\" transform=\"translate(270.25,0)\" d=\"M0,100v270\" style=\"stroke: rgb(255, 255, 255); stroke-opacity: 1; stroke-width: 1px;\"/><path class=\"xgrid crisp\" transform=\"translate(429.75,0)\" d=\"M0,100v270\" style=\"stroke: rgb(255, 255, 255); stroke-opacity: 1; stroke-width: 1px;\"/><path class=\"xgrid crisp\" transform=\"translate(589.25,0)\" d=\"M0,100v270\" style=\"stroke: rgb(255, 255, 255); stroke-opacity: 1; stroke-width: 1px;\"/></g><g class=\"y\"><path class=\"ygrid crisp\" transform=\"translate(0,307.1)\" d=\"M80,0h540\" style=\"stroke: rgb(255, 255, 255); stroke-opacity: 1; stroke-width: 1px;\"/><path class=\"ygrid crisp\" transform=\"translate(0,255.23)\" d=\"M80,0h540\" style=\"stroke: rgb(255, 255, 255); stroke-opacity: 1; stroke-width: 1px;\"/><path class=\"ygrid crisp\" transform=\"translate(0,203.36)\" d=\"M80,0h540\" style=\"stroke: rgb(255, 255, 255); stroke-opacity: 1; stroke-width: 1px;\"/><path class=\"ygrid crisp\" transform=\"translate(0,151.49)\" d=\"M80,0h540\" style=\"stroke: rgb(255, 255, 255); stroke-opacity: 1; stroke-width: 1px;\"/></g></g><g class=\"zerolinelayer\"><path class=\"yzl zl crisp\" transform=\"translate(0,358.97)\" d=\"M80,0h540\" style=\"stroke: rgb(255, 255, 255); stroke-opacity: 1; stroke-width: 1px;\"/></g><path class=\"xlines-below\"/><path class=\"ylines-below\"/><g class=\"overlines-below\"/><g class=\"xaxislayer-below\"/><g class=\"yaxislayer-below\"/><g class=\"overaxes-below\"/><g class=\"plot\" transform=\"translate(80, 100)\" clip-path=\"url('#clipd45aabxyplot')\"><g class=\"scatterlayer mlayer\"><g class=\"trace scatter trace4a2923\" style=\"stroke-miterlimit: 2; opacity: 1;\"><g class=\"fills\"/><g class=\"errorbars\"/><g class=\"lines\"><path class=\"js-line\" d=\"M30.75,252.75L190.25,161.45L349.75,187.91L509.25,17.25\" style=\"vector-effect: non-scaling-stroke; fill: none; stroke: rgb(76, 114, 176); stroke-opacity: 1; stroke-width: 2px; opacity: 1;\"/></g><g class=\"points\"><path class=\"point\" transform=\"translate(30.75,252.75)\" d=\"M3,0A3,3 0 1,1 0,-3A3,3 0 0,1 3,0Z\" style=\"opacity: 1; stroke-width: 0px; fill: rgb(76, 114, 176); fill-opacity: 1;\"/><path class=\"point\" transform=\"translate(190.25,161.45)\" d=\"M3,0A3,3 0 1,1 0,-3A3,3 0 0,1 3,0Z\" style=\"opacity: 1; stroke-width: 0px; fill: rgb(76, 114, 176); fill-opacity: 1;\"/><path class=\"point\" transform=\"translate(349.75,187.91)\" d=\"M3,0A3,3 0 1,1 0,-3A3,3 0 0,1 3,0Z\" style=\"opacity: 1; stroke-width: 0px; fill: rgb(76, 114, 176); fill-opacity: 1;\"/><path class=\"point\" transform=\"translate(509.25,17.25)\" d=\"M3,0A3,3 0 1,1 0,-3A3,3 0 0,1 3,0Z\" style=\"opacity: 1; stroke-width: 0px; fill: rgb(76, 114, 176); fill-opacity: 1;\"/></g><g class=\"text\"/></g></g></g><g class=\"overplot\"/><path class=\"xlines-above crisp\" d=\"M0,0\" style=\"fill: none;\"/><path class=\"ylines-above crisp\" d=\"M0,0\" style=\"fill: none;\"/><g class=\"overlines-above\"/><g class=\"xaxislayer-above\"><g class=\"xtick\"><text text-anchor=\"middle\" x=\"0\" y=\"383\" transform=\"translate(110.75,0)\" style=\"font-family: 'Open Sans', verdana, arial, sans-serif; font-size: 12px; fill: rgb(36, 36, 36); fill-opacity: 1; white-space: pre;\">0-3折</text></g><g class=\"xtick\"><text text-anchor=\"middle\" x=\"0\" y=\"383\" transform=\"translate(270.25,0)\" style=\"font-family: 'Open Sans', verdana, arial, sans-serif; font-size: 12px; fill: rgb(36, 36, 36); fill-opacity: 1; white-space: pre;\">3-5折</text></g><g class=\"xtick\"><text text-anchor=\"middle\" x=\"0\" y=\"383\" transform=\"translate(429.75,0)\" style=\"font-family: 'Open Sans', verdana, arial, sans-serif; font-size: 12px; fill: rgb(36, 36, 36); fill-opacity: 1; white-space: pre;\">5-7折</text></g><g class=\"xtick\"><text text-anchor=\"middle\" x=\"0\" y=\"383\" transform=\"translate(589.25,0)\" style=\"font-family: 'Open Sans', verdana, arial, sans-serif; font-size: 12px; fill: rgb(36, 36, 36); fill-opacity: 1; white-space: pre;\">7-9.5折</text></g></g><g class=\"yaxislayer-above\"><g class=\"ytick\"><text text-anchor=\"end\" x=\"79\" y=\"4.199999999999999\" transform=\"translate(0,358.97)\" style=\"font-family: 'Open Sans', verdana, arial, sans-serif; font-size: 12px; fill: rgb(36, 36, 36); fill-opacity: 1; white-space: pre;\">0</text></g><g class=\"ytick\"><text text-anchor=\"end\" x=\"79\" y=\"4.199999999999999\" transform=\"translate(0,307.1)\" style=\"font-family: 'Open Sans', verdana, arial, sans-serif; font-size: 12px; fill: rgb(36, 36, 36); fill-opacity: 1; white-space: pre;\">100</text></g><g class=\"ytick\"><text text-anchor=\"end\" x=\"79\" y=\"4.199999999999999\" transform=\"translate(0,255.23)\" style=\"font-family: 'Open Sans', verdana, arial, sans-serif; font-size: 12px; fill: rgb(36, 36, 36); fill-opacity: 1; white-space: pre;\">200</text></g><g class=\"ytick\"><text text-anchor=\"end\" x=\"79\" y=\"4.199999999999999\" transform=\"translate(0,203.36)\" style=\"font-family: 'Open Sans', verdana, arial, sans-serif; font-size: 12px; fill: rgb(36, 36, 36); fill-opacity: 1; white-space: pre;\">300</text></g><g class=\"ytick\"><text text-anchor=\"end\" x=\"79\" y=\"4.199999999999999\" transform=\"translate(0,151.49)\" style=\"font-family: 'Open Sans', verdana, arial, sans-serif; font-size: 12px; fill: rgb(36, 36, 36); fill-opacity: 1; white-space: pre;\">400</text></g></g><g class=\"overaxes-above\"/></g></g><g class=\"polarlayer\"/><g class=\"ternarylayer\"/><g class=\"geolayer\"/><g class=\"funnelarealayer\"/><g class=\"pielayer\"/><g class=\"treemaplayer\"/><g class=\"sunburstlayer\"/><g class=\"glimages\"/><defs id=\"topdefs-d45aab\"><g class=\"clips\"/><clipPath id=\"legendd45aab\"><rect width=\"56\" height=\"45\" x=\"0\" y=\"0\"/></clipPath></defs><g class=\"layer-above\"><g class=\"imagelayer\"/><g class=\"shapelayer\"/></g><g class=\"infolayer\"><g class=\"legend\" pointer-events=\"all\" transform=\"translate(630.8, 100)\"><rect class=\"bg\" shape-rendering=\"crispEdges\" width=\"56\" height=\"45\" x=\"0\" y=\"0\" style=\"stroke: rgb(68, 68, 68); stroke-opacity: 1; fill: rgb(255, 255, 255); fill-opacity: 1; stroke-width: 0px;\"/><g class=\"scrollbox\" transform=\"translate(0, 0)\" clip-path=\"url('#legendd45aab')\"><text class=\"legendtitletext user-select-none\" text-anchor=\"start\" x=\"2\" y=\"15.600000000000001\" style=\"font-family: 'Open Sans', verdana, arial, sans-serif; font-size: 12px; fill: rgb(36, 36, 36); fill-opacity: 1; white-space: pre;\">variable</text><g class=\"groups\" transform=\"translate(0, 0)\"><g class=\"traces\" transform=\"translate(0, 30.1)\" style=\"opacity: 1;\"><text class=\"legendtext user-select-none\" text-anchor=\"start\" x=\"40\" y=\"4.680000000000001\" style=\"font-family: 'Open Sans', verdana, arial, sans-serif; font-size: 12px; fill: rgb(36, 36, 36); fill-opacity: 1; white-space: pre;\">id</text><g class=\"layers\" style=\"opacity: 1;\"><g class=\"legendfill\"/><g class=\"legendlines\"><path class=\"js-line\" d=\"M5,0h30\" style=\"fill: none; stroke: rgb(76, 114, 176); stroke-opacity: 1; stroke-width: 2px;\"/></g><g class=\"legendsymbols\"><g class=\"legendpoints\"><path class=\"scatterpts\" transform=\"translate(20,0)\" d=\"M3,0A3,3 0 1,1 0,-3A3,3 0 0,1 3,0Z\" style=\"opacity: 1; stroke-width: 0px; fill: rgb(76, 114, 176); fill-opacity: 1;\"/></g></g></g><rect class=\"legendtoggle\" pointer-events=\"all\" x=\"0\" y=\"-9.5\" width=\"50.78125\" height=\"19\" style=\"cursor: pointer; fill: rgb(0, 0, 0); fill-opacity: 0;\"/></g></g></g><rect class=\"scrollbar\" rx=\"20\" ry=\"3\" width=\"0\" height=\"0\" x=\"0\" y=\"0\" style=\"fill: rgb(128, 139, 164); fill-opacity: 1;\"/></g><g class=\"g-gtitle\"><text class=\"gtitle\" x=\"350\" y=\"50\" text-anchor=\"middle\" dy=\"0em\" style=\"font-family: 'Open Sans', verdana, arial, sans-serif; font-size: 17px; fill: rgb(36, 36, 36); opacity: 1; font-weight: normal; white-space: pre;\">打折商品折扣情况</text></g><g class=\"g-xtitle\"><text class=\"xtitle\" x=\"350\" y=\"410.20625\" text-anchor=\"middle\" style=\"font-family: 'Open Sans', verdana, arial, sans-serif; font-size: 14px; fill: rgb(36, 36, 36); opacity: 1; font-weight: normal; white-space: pre;\">bin</text></g><g class=\"g-ytitle\"><text class=\"ytitle\" transform=\"rotate(-90,31.309375000000003,235)\" x=\"31.309375000000003\" y=\"235\" text-anchor=\"middle\" style=\"font-family: 'Open Sans', verdana, arial, sans-serif; font-size: 14px; fill: rgb(36, 36, 36); opacity: 1; font-weight: normal; white-space: pre;\">value</text></g></g></svg>"
      ]
     },
     "metadata": {},
     "output_type": "display_data"
    }
   ],
   "source": [
    "# 2、哪些商品真的在打折呢？\n",
    "# 要求：\n",
    "# ① 针对每个商品，评估其打折的情况\n",
    "# ② 针对在打折的商品，其折扣率是多少\n",
    "#    * 用bokeh绘制折线图：x轴为折扣率，y轴为商品数量\n",
    "# ③ 按照品牌分析，不同品牌的打折力度\n",
    "#    * 用bokeh绘制浮动散点图，y坐标为品牌类型，x坐标为折扣力度\n",
    "# 提示：\n",
    "# ① 打折情况评估方法：\n",
    "#    真打折：商品的价格在10天内有波动、双11价格为10天内最低价、不存在涨价现象\n",
    "#    不打折：商品价格无变化\n",
    "# ② 针对每个商品做price字段的value值统计，查看价格是否有波动，可以先用pd.cut将date分为不同周期：'双十一前','双十一当天','双十一后'，得到period字段\n",
    "#    data[['id','price','date']].groupby(['id','price']).min()\n",
    "#    针对统计出来的结果，如果按照id和price分组仍只有一个唯一值，则说明价格未变，没打折；否则为打折\n",
    "# ③ 折扣率 = 双十一当天价格 / 双十一之前价格\n",
    "# ④ 作图过程中，清除掉折扣率大于95%的数据\n",
    "\n",
    "data['date']=data['update_time'].dt.day\n",
    "periods=[4,10,11,14]\n",
    "data['period'] = pd.cut(data['date'],periods,labels=['双十一前','双十一当天','双十一后'])\n",
    "data.head()\n",
    "data_sale = data[['id','price','period']].groupby(['id','price']).min()\n",
    "data_sale.reset_index(inplace=True)\n",
    "id_counts = data_sale['id'].value_counts()\n",
    "id_type1 = id_counts[id_counts==1].index\n",
    "id_type2 = id_counts[id_counts!=1].index\n",
    "\n",
    "n1=len(id_type1)\n",
    "n2=len(id_type2)\n",
    "print('--------\\n','真打折的商品数量约占比%.2f%%，不打折的商品数量约占比%.2f%%' % (n2/len(id_counts)*100, n1/len(id_counts)*100))\n",
    "result_be11 = data_sale[data_sale['period']=='双十一前']\n",
    "result_11 =data_sale[data_sale['period']=='双十一当天']\n",
    "result_sale = pd.merge(result_11,result_be11,on='id',how='left')\n",
    "\n",
    "result_sale['折扣率']=result_sale['price_x']/result_sale['price_y']\n",
    "# result_sale.head()\n",
    "re_bins=[0,0.3,0.5,0.7,0.95]\n",
    "\n",
    "result_sale['bin'] = pd.cut(result_sale['折扣率'],re_bins,labels=['0-3折','3-5折','5-7折','7-9.5折'])\n",
    "result_sale.head()\n",
    "result_fig = result_sale.groupby('bin')['id'].count()\n",
    "result_fig\n",
    "fig = px.scatter(result_fig,template='seaborn',title='打折商品折扣情况')\n",
    "fig.update_traces(mode='lines+markers')\n",
    "fig.show(renderer='svg')"
   ]
  }
 ],
 "metadata": {
  "anaconda-cloud": {},
  "kernelspec": {
   "display_name": "Python 3",
   "language": "python",
   "name": "python3"
  },
  "language_info": {
   "codemirror_mode": {
    "name": "ipython",
    "version": 3
   },
   "file_extension": ".py",
   "mimetype": "text/x-python",
   "name": "python",
   "nbconvert_exporter": "python",
   "pygments_lexer": "ipython3",
   "version": "3.7.0"
  },
  "toc": {
   "base_numbering": 1,
   "nav_menu": {},
   "number_sections": true,
   "sideBar": true,
   "skip_h1_title": false,
   "title_cell": "Table of Contents",
   "title_sidebar": "Contents",
   "toc_cell": false,
   "toc_position": {},
   "toc_section_display": true,
   "toc_window_display": false
  }
 },
 "nbformat": 4,
 "nbformat_minor": 1
}
