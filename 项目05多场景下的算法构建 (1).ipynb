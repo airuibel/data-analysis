{
 "cells": [
  {
   "cell_type": "code",
   "execution_count": null,
   "metadata": {
    "collapsed": true
   },
   "outputs": [],
   "source": [
    "'''\n",
    "【项目05】  多场景下的算法构建\n",
    "\n",
    "课程数据：\n",
    "某公司A,B产品在2018年1,2,3月的销量数据，数据格式为xlsx\n",
    "\n",
    "作业要求：\n",
    "1、批量读取数据，并输出以下信息\n",
    "（1）数据量\n",
    "（2）数据字段columns\n",
    "（3）输出每个文件分别有多少缺失值\n",
    "要求：\n",
    "① 创建独立函数，从读取数据到以上输出要求\n",
    "② 运行代码多次调用创建函数，对数据进行批量处理\n",
    "提示：\n",
    "① 将课程excel数据放入单独文件夹(建议英文路径)，函数中通过input来输入excel数据所在文件夹路径，再通过遍历来读取文件\n",
    "② pd.read_excel()中用“index_col”参数，将第一列变为index\n",
    "③ os.walk(path) → 返回路径中的信息及文件，结果为一个生成器\n",
    "④ 定位缺失值位置：data[data.isnull().values == True]\n",
    "\n",
    "2、批量读取数据，用均值填充缺失值数据，并完成以下计算及图表制作\n",
    "（1）读取数据并用均值填充缺失值；对“日期”字段进行时间序列处理，转换成日period ，最后输出三个Dataframe文件data1,data2,data3\n",
    "（2）分别计算data1，data2，data3中A,B产品的月总销量，并绘制多系列柱状图，存储在对应的图片文件夹路径\n",
    "（3）分别计算A产品在每个月中哪一天超过了月度80%的销量，输出日期\n",
    "要求：\n",
    "① 分别创建四个函数，对应完成上述需求\n",
    "② 数据文件夹路径和图片存储路径不要相同\n",
    "提示：\n",
    "① 时间序列转换方法提示：pd.to_period\n",
    "② 时间戳Timestampe转化成字符串用str()方法\n",
    "\n",
    "3、读取数据并合并，做散点图观察A,B产品销量，并做回归，预测当A销量为1200时，B产品销量值\n",
    "（1）读取数据删除缺失值；对“日期”字段进行时间序列处理，转换成日period ，合并三个月数据，输出data；\n",
    "（2）针对A产品销量和B产品销量数据做回归分析，制作散点图并存储，并预测当A销量为1200时，B产品销量值\n",
    "要求：\n",
    "① 分别创建两个函数，对应完成上述需求\n",
    "② 数据文件夹路径和图片存储路径不要相同\n",
    "提示：\n",
    "① 用pd.dripna方法去掉缺失值，注意inplace参数\n",
    "\n",
    "'''"
   ]
  },
  {
   "cell_type": "code",
   "execution_count": 75,
   "metadata": {
    "ExecuteTime": {
     "end_time": "2020-07-06T10:47:13.567964Z",
     "start_time": "2020-07-06T10:47:13.521068Z"
    }
   },
   "outputs": [
    {
     "name": "stdout",
     "output_type": "stream",
     "text": [
      "第1个数据量为31\n",
      "第1个数据字段为: ['productA', 'productB']\n",
      "第1个缺失值为3\n",
      "第2个数据量为28\n",
      "第2个数据字段为: ['productA', 'productB']\n",
      "第2个缺失值为4\n",
      "第3个数据量为31\n",
      "第3个数据字段为: ['productA', 'productB']\n",
      "第3个缺失值为3\n"
     ]
    }
   ],
   "source": [
    "import numpy as np\n",
    "import pandas as pd\n",
    "import plotly.express as px\n",
    "import plotly.graph_objects as go\n",
    "import matplotlib.pyplot as plt\n",
    "from sklearn.linear_model import LinearRegression\n",
    "from sklearn.model_selection import train_test_split\n",
    "import os\n",
    "% matplotlib inline\n",
    "path = r'D:\\BaiduNetdiskDownload\\项目05'\n",
    "def upload_data():\n",
    "    floder = os.walk(path)\n",
    "    name=[]\n",
    "    for root,dirs,files in floder:\n",
    "        for files in files:\n",
    "            name.append(os.path.join(root,files))\n",
    "    n=1\n",
    "    for i in name:\n",
    "        load = pd.read_excel(i,index_col=0)\n",
    "        col_name = load.columns.tolist()\n",
    "        nan_counts = len(load[load.isnull().values==True])\n",
    "        print('第%i个数据量为%i'%(n,len(load)))\n",
    "        print('第%i个数据字段为:'%n,col_name)\n",
    "        print('第%i个缺失值为%i'%(n,nan_counts))\n",
    "        n+=1\n",
    "upload_data()\n",
    "        "
   ]
  },
  {
   "cell_type": "code",
   "execution_count": 63,
   "metadata": {
    "ExecuteTime": {
     "end_time": "2020-07-06T10:13:42.745313Z",
     "start_time": "2020-07-06T10:13:41.800591Z"
    }
   },
   "outputs": [
    {
     "name": "stdout",
     "output_type": "stream",
     "text": [
      "                sum_a         sum_b\n",
      "2018-01  17774.318140  20634.984309\n",
      "2018-02  16825.563937  17644.780874\n",
      "2018-03  19867.499953  21840.054395\n"
     ]
    },
    {
     "data": {
      "image/svg+xml": [
       "<svg class=\"main-svg\" xmlns=\"http://www.w3.org/2000/svg\" xmlns:xlink=\"http://www.w3.org/1999/xlink\" width=\"700\" height=\"450\" style=\"\" viewBox=\"0 0 700 450\"><rect x=\"0\" y=\"0\" width=\"700\" height=\"450\" style=\"fill: rgb(255, 255, 255); fill-opacity: 1;\"/><defs id=\"defs-e8e404\"><g class=\"clips\"><clipPath id=\"clipe8e404xyplot\" class=\"plotclip\"><rect width=\"512\" height=\"310\"/></clipPath><clipPath class=\"axesclip\" id=\"clipe8e404x\"><rect x=\"80\" y=\"0\" width=\"512\" height=\"450\"/></clipPath><clipPath class=\"axesclip\" id=\"clipe8e404y\"><rect x=\"0\" y=\"60\" width=\"700\" height=\"310\"/></clipPath><clipPath class=\"axesclip\" id=\"clipe8e404xy\"><rect x=\"80\" y=\"60\" width=\"512\" height=\"310\"/></clipPath></g><g class=\"gradients\"/></defs><g class=\"bglayer\"><rect class=\"bg\" x=\"80\" y=\"60\" width=\"512\" height=\"310\" style=\"fill: rgb(234, 234, 242); fill-opacity: 1; stroke-width: 0;\"/></g><g class=\"layer-below\"><g class=\"imagelayer\"/><g class=\"shapelayer\"/></g><g class=\"cartesianlayer\"><g class=\"subplot xy\"><g class=\"layer-subplot\"><g class=\"shapelayer\"/><g class=\"imagelayer\"/></g><g class=\"gridlayer\"><g class=\"x\"><path class=\"xgrid crisp\" transform=\"translate(162.39,0)\" d=\"M0,60v310\" style=\"stroke: rgb(255, 255, 255); stroke-opacity: 1; stroke-width: 1px;\"/><path class=\"xgrid crisp\" transform=\"translate(327.16999999999996,0)\" d=\"M0,60v310\" style=\"stroke: rgb(255, 255, 255); stroke-opacity: 1; stroke-width: 1px;\"/><path class=\"xgrid crisp\" transform=\"translate(491.95,0)\" d=\"M0,60v310\" style=\"stroke: rgb(255, 255, 255); stroke-opacity: 1; stroke-width: 1px;\"/></g><g class=\"y\"><path class=\"ygrid crisp\" transform=\"translate(0,302.58000000000004)\" d=\"M80,0h512\" style=\"stroke: rgb(255, 255, 255); stroke-opacity: 1; stroke-width: 1px;\"/><path class=\"ygrid crisp\" transform=\"translate(0,235.16)\" d=\"M80,0h512\" style=\"stroke: rgb(255, 255, 255); stroke-opacity: 1; stroke-width: 1px;\"/><path class=\"ygrid crisp\" transform=\"translate(0,167.73000000000002)\" d=\"M80,0h512\" style=\"stroke: rgb(255, 255, 255); stroke-opacity: 1; stroke-width: 1px;\"/><path class=\"ygrid crisp\" transform=\"translate(0,100.31)\" d=\"M80,0h512\" style=\"stroke: rgb(255, 255, 255); stroke-opacity: 1; stroke-width: 1px;\"/></g></g><g class=\"zerolinelayer\"><path class=\"yzl zl crisp\" transform=\"translate(0,370)\" d=\"M80,0h512\" style=\"stroke: rgb(255, 255, 255); stroke-opacity: 1; stroke-width: 1px;\"/></g><path class=\"xlines-below\"/><path class=\"ylines-below\"/><g class=\"overlines-below\"/><g class=\"xaxislayer-below\"/><g class=\"yaxislayer-below\"/><g class=\"overaxes-below\"/><g class=\"plot\" transform=\"translate(80, 60)\" clip-path=\"url('#clipe8e404xyplot')\"><g class=\"barlayer mlayer\"><g class=\"trace bars\" style=\"opacity: 1;\"><g class=\"points\"><g class=\"point\"><path d=\"M16.48,310V70.32H82.39V310Z\" style=\"vector-effect: non-scaling-stroke; opacity: 1; stroke-width: 0.5px; fill: rgb(76, 114, 176); fill-opacity: 1; stroke: rgb(234, 234, 242); stroke-opacity: 1;\"/></g><g class=\"point\"><path d=\"M198.91,310V83.12H264.83V310Z\" style=\"vector-effect: non-scaling-stroke; opacity: 1; stroke-width: 0.5px; fill: rgb(76, 114, 176); fill-opacity: 1; stroke: rgb(234, 234, 242); stroke-opacity: 1;\"/></g><g class=\"point\"><path d=\"M363.7,310V42.1H429.61V310Z\" style=\"vector-effect: non-scaling-stroke; opacity: 1; stroke-width: 0.5px; fill: rgb(76, 114, 176); fill-opacity: 1; stroke: rgb(234, 234, 242); stroke-opacity: 1;\"/></g></g></g><g class=\"trace bars\" style=\"opacity: 1;\"><g class=\"points\"><g class=\"point\"><path d=\"M82.39,310V31.75H148.3V310Z\" style=\"vector-effect: non-scaling-stroke; opacity: 1; stroke-width: 0.5px; fill: rgb(221, 132, 82); fill-opacity: 1; stroke: rgb(234, 234, 242); stroke-opacity: 1;\"/></g><g class=\"point\"><path d=\"M264.83,310V72.07H330.74V310Z\" style=\"vector-effect: non-scaling-stroke; opacity: 1; stroke-width: 0.5px; fill: rgb(221, 132, 82); fill-opacity: 1; stroke: rgb(234, 234, 242); stroke-opacity: 1;\"/></g><g class=\"point\"><path d=\"M429.61,310V15.5H495.52V310Z\" style=\"vector-effect: non-scaling-stroke; opacity: 1; stroke-width: 0.5px; fill: rgb(221, 132, 82); fill-opacity: 1; stroke: rgb(234, 234, 242); stroke-opacity: 1;\"/></g></g></g></g></g><g class=\"overplot\"/><path class=\"xlines-above crisp\" d=\"M0,0\" style=\"fill: none;\"/><path class=\"ylines-above crisp\" d=\"M0,0\" style=\"fill: none;\"/><g class=\"overlines-above\"/><g class=\"xaxislayer-above\"><g class=\"xtick\"><text text-anchor=\"middle\" x=\"0\" y=\"383\" transform=\"translate(162.39,0)\" style=\"font-family: 'Open Sans', verdana, arial, sans-serif; font-size: 12px; fill: rgb(36, 36, 36); fill-opacity: 1; white-space: pre;\"><tspan class=\"line\" dy=\"0em\" x=\"0\" y=\"383\">Jan 1</tspan><tspan class=\"line\" dy=\"1.3em\" x=\"0\" y=\"383\">2018</tspan></text></g><g class=\"xtick\"><text text-anchor=\"middle\" x=\"0\" y=\"383\" transform=\"translate(327.16999999999996,0)\" style=\"font-family: 'Open Sans', verdana, arial, sans-serif; font-size: 12px; fill: rgb(36, 36, 36); fill-opacity: 1; white-space: pre;\">Jan 29</text></g><g class=\"xtick\"><text text-anchor=\"middle\" x=\"0\" y=\"383\" transform=\"translate(491.95,0)\" style=\"font-family: 'Open Sans', verdana, arial, sans-serif; font-size: 12px; fill: rgb(36, 36, 36); fill-opacity: 1; white-space: pre;\">Feb 26</text></g></g><g class=\"yaxislayer-above\"><g class=\"ytick\"><text text-anchor=\"end\" x=\"79\" y=\"4.199999999999999\" transform=\"translate(0,370)\" style=\"font-family: 'Open Sans', verdana, arial, sans-serif; font-size: 12px; fill: rgb(36, 36, 36); fill-opacity: 1; white-space: pre;\">0</text></g><g class=\"ytick\"><text text-anchor=\"end\" x=\"79\" y=\"4.199999999999999\" transform=\"translate(0,302.58000000000004)\" style=\"font-family: 'Open Sans', verdana, arial, sans-serif; font-size: 12px; fill: rgb(36, 36, 36); fill-opacity: 1; white-space: pre;\">5k</text></g><g class=\"ytick\"><text text-anchor=\"end\" x=\"79\" y=\"4.199999999999999\" transform=\"translate(0,235.16)\" style=\"font-family: 'Open Sans', verdana, arial, sans-serif; font-size: 12px; fill: rgb(36, 36, 36); fill-opacity: 1; white-space: pre;\">10k</text></g><g class=\"ytick\"><text text-anchor=\"end\" x=\"79\" y=\"4.199999999999999\" transform=\"translate(0,167.73000000000002)\" style=\"font-family: 'Open Sans', verdana, arial, sans-serif; font-size: 12px; fill: rgb(36, 36, 36); fill-opacity: 1; white-space: pre;\">15k</text></g><g class=\"ytick\"><text text-anchor=\"end\" x=\"79\" y=\"4.199999999999999\" transform=\"translate(0,100.31)\" style=\"font-family: 'Open Sans', verdana, arial, sans-serif; font-size: 12px; fill: rgb(36, 36, 36); fill-opacity: 1; white-space: pre;\">20k</text></g></g><g class=\"overaxes-above\"/></g></g><g class=\"polarlayer\"/><g class=\"ternarylayer\"/><g class=\"geolayer\"/><g class=\"funnelarealayer\"/><g class=\"pielayer\"/><g class=\"treemaplayer\"/><g class=\"sunburstlayer\"/><g class=\"glimages\"/><defs id=\"topdefs-e8e404\"><g class=\"clips\"/><clipPath id=\"legende8e404\"><rect width=\"86\" height=\"64\" x=\"0\" y=\"0\"/></clipPath></defs><g class=\"layer-above\"><g class=\"imagelayer\"/><g class=\"shapelayer\"/></g><g class=\"infolayer\"><g class=\"legend\" pointer-events=\"all\" transform=\"translate(602.24, 60)\"><rect class=\"bg\" shape-rendering=\"crispEdges\" width=\"86\" height=\"64\" x=\"0\" y=\"0\" style=\"stroke: rgb(68, 68, 68); stroke-opacity: 1; fill: rgb(255, 255, 255); fill-opacity: 1; stroke-width: 0px;\"/><g class=\"scrollbox\" transform=\"translate(0, 0)\" clip-path=\"url('#legende8e404')\"><text class=\"legendtitletext user-select-none\" text-anchor=\"start\" x=\"2\" y=\"15.600000000000001\" style=\"font-family: 'Open Sans', verdana, arial, sans-serif; font-size: 12px; fill: rgb(36, 36, 36); fill-opacity: 1; white-space: pre;\">variable</text><g class=\"groups\" transform=\"translate(0, 0)\"><g class=\"traces\" transform=\"translate(0, 30.1)\" style=\"opacity: 1;\"><text class=\"legendtext user-select-none\" text-anchor=\"start\" x=\"40\" y=\"4.680000000000001\" style=\"font-family: 'Open Sans', verdana, arial, sans-serif; font-size: 12px; fill: rgb(36, 36, 36); fill-opacity: 1; white-space: pre;\">sum_a</text><g class=\"layers\" style=\"opacity: 1;\"><g class=\"legendfill\"/><g class=\"legendlines\"/><g class=\"legendsymbols\"><g class=\"legendpoints\"><path class=\"legendundefined\" d=\"M6,6H-6V-6H6Z\" transform=\"translate(20,0)\" style=\"stroke-width: 0.5px; fill: rgb(76, 114, 176); fill-opacity: 1; stroke: rgb(234, 234, 242); stroke-opacity: 1;\"/></g></g></g><rect class=\"legendtoggle\" pointer-events=\"all\" x=\"0\" y=\"-9.5\" width=\"80.625\" height=\"19\" style=\"cursor: pointer; fill: rgb(0, 0, 0); fill-opacity: 0;\"/></g></g><g class=\"groups\" transform=\"translate(0, 0)\"><g class=\"traces\" transform=\"translate(0, 49.1)\" style=\"opacity: 1;\"><text class=\"legendtext user-select-none\" text-anchor=\"start\" x=\"40\" y=\"4.680000000000001\" style=\"font-family: 'Open Sans', verdana, arial, sans-serif; font-size: 12px; fill: rgb(36, 36, 36); fill-opacity: 1; white-space: pre;\">sum_b</text><g class=\"layers\" style=\"opacity: 1;\"><g class=\"legendfill\"/><g class=\"legendlines\"/><g class=\"legendsymbols\"><g class=\"legendpoints\"><path class=\"legendundefined\" d=\"M6,6H-6V-6H6Z\" transform=\"translate(20,0)\" style=\"stroke-width: 0.5px; fill: rgb(221, 132, 82); fill-opacity: 1; stroke: rgb(234, 234, 242); stroke-opacity: 1;\"/></g></g></g><rect class=\"legendtoggle\" pointer-events=\"all\" x=\"0\" y=\"-9.5\" width=\"80.625\" height=\"19\" style=\"cursor: pointer; fill: rgb(0, 0, 0); fill-opacity: 0;\"/></g></g></g><rect class=\"scrollbar\" rx=\"20\" ry=\"3\" width=\"0\" height=\"0\" x=\"0\" y=\"0\" style=\"fill: rgb(128, 139, 164); fill-opacity: 1;\"/></g><g class=\"g-gtitle\"/><g class=\"g-xtitle\"><text class=\"xtitle\" x=\"336\" y=\"425.8\" text-anchor=\"middle\" style=\"font-family: 'Open Sans', verdana, arial, sans-serif; font-size: 14px; fill: rgb(36, 36, 36); opacity: 1; font-weight: normal; white-space: pre;\">index</text></g><g class=\"g-ytitle\"><text class=\"ytitle\" transform=\"rotate(-90,31.840625000000003,215)\" x=\"31.840625000000003\" y=\"215\" text-anchor=\"middle\" style=\"font-family: 'Open Sans', verdana, arial, sans-serif; font-size: 14px; fill: rgb(36, 36, 36); opacity: 1; font-weight: normal; white-space: pre;\">value</text></g></g></svg>"
      ]
     },
     "metadata": {},
     "output_type": "display_data"
    },
    {
     "data": {
      "text/plain": [
       "[Timestamp('2018-01-26 00:00:00'),\n",
       " Timestamp('2018-02-23 00:00:00'),\n",
       " Timestamp('2018-03-25 00:00:00')]"
      ]
     },
     "execution_count": 63,
     "metadata": {},
     "output_type": "execute_result"
    }
   ],
   "source": [
    "\n",
    "floder = os.walk(path)\n",
    "name=[]\n",
    "for root,dirs,files in floder:\n",
    "    for files in files:\n",
    "        name.append(os.path.join(root,files))\n",
    "data=[]\n",
    "for i in name:\n",
    "    load = pd.read_excel(i,index_col=0)\n",
    "    load.to_period()\n",
    "    load.iloc[:,0].fillna(load.iloc[:,0].mean(),inplace=True)\n",
    "    load.iloc[:,1].fillna(load.iloc[:,1].mean(),inplace=True)\n",
    "    data.append(load)\n",
    "\n",
    "\n",
    "def pic():\n",
    "    A_file=r'D:\\BaiduNetdiskDownload\\项目05_prod'\n",
    "    sale_a = []\n",
    "    sale_b = []\n",
    "    for i in data:\n",
    "        sale_a.append(i.iloc[:,0].sum())\n",
    "        sale_b.append(i.iloc[:,1].sum())\n",
    "    df = pd.DataFrame({'sum_a':sale_a,'sum_b':sale_b},index=pd.period_range('201801','201803',freq='M'))\n",
    "    df.index=df.index.astype(str)\n",
    "    print(df)\n",
    "    fig = px.bar(df,x=df.index,y=['sum_a','sum_b'],barmode='group',template='seaborn')\n",
    "    fig.show(renderer='svg')\n",
    "pic()\n",
    "\n",
    "def cusum_a():\n",
    "    target_data=[]\n",
    "    for i in data:\n",
    "        i['a_percent'] = i.iloc[:,0].cumsum()/i.iloc[:,0].sum()\n",
    "        target_data.append(i[i['a_percent']>0.8].index[0])\n",
    "    return target_data\n",
    "cusum_a()"
   ]
  },
  {
   "cell_type": "code",
   "execution_count": 95,
   "metadata": {
    "ExecuteTime": {
     "end_time": "2020-07-06T11:01:28.091378Z",
     "start_time": "2020-07-06T11:01:27.978683Z"
    }
   },
   "outputs": [
    {
     "data": {
      "image/svg+xml": [
       "<svg class=\"main-svg\" xmlns=\"http://www.w3.org/2000/svg\" xmlns:xlink=\"http://www.w3.org/1999/xlink\" width=\"700\" height=\"450\" style=\"\" viewBox=\"0 0 700 450\"><rect x=\"0\" y=\"0\" width=\"700\" height=\"450\" style=\"fill: rgb(255, 255, 255); fill-opacity: 1;\"/><defs id=\"defs-5e0226\"><g class=\"clips\"><clipPath id=\"clip5e0226xyplot\" class=\"plotclip\"><rect width=\"540\" height=\"310\"/></clipPath><clipPath class=\"axesclip\" id=\"clip5e0226x\"><rect x=\"80\" y=\"0\" width=\"540\" height=\"450\"/></clipPath><clipPath class=\"axesclip\" id=\"clip5e0226y\"><rect x=\"0\" y=\"60\" width=\"700\" height=\"310\"/></clipPath><clipPath class=\"axesclip\" id=\"clip5e0226xy\"><rect x=\"80\" y=\"60\" width=\"540\" height=\"310\"/></clipPath></g><g class=\"gradients\"/></defs><g class=\"bglayer\"><rect class=\"bg\" x=\"80\" y=\"60\" width=\"540\" height=\"310\" style=\"fill: rgb(234, 234, 242); fill-opacity: 1; stroke-width: 0;\"/></g><g class=\"layer-below\"><g class=\"imagelayer\"/><g class=\"shapelayer\"/></g><g class=\"cartesianlayer\"><g class=\"subplot xy\"><g class=\"layer-subplot\"><g class=\"shapelayer\"/><g class=\"imagelayer\"/></g><g class=\"gridlayer\"><g class=\"x\"><path class=\"xgrid crisp\" transform=\"translate(200.82,0)\" d=\"M0,60v310\" style=\"stroke: rgb(255, 255, 255); stroke-opacity: 1; stroke-width: 1px;\"/><path class=\"xgrid crisp\" transform=\"translate(298.18,0)\" d=\"M0,60v310\" style=\"stroke: rgb(255, 255, 255); stroke-opacity: 1; stroke-width: 1px;\"/><path class=\"xgrid crisp\" transform=\"translate(395.54,0)\" d=\"M0,60v310\" style=\"stroke: rgb(255, 255, 255); stroke-opacity: 1; stroke-width: 1px;\"/><path class=\"xgrid crisp\" transform=\"translate(492.89,0)\" d=\"M0,60v310\" style=\"stroke: rgb(255, 255, 255); stroke-opacity: 1; stroke-width: 1px;\"/><path class=\"xgrid crisp\" transform=\"translate(590.25,0)\" d=\"M0,60v310\" style=\"stroke: rgb(255, 255, 255); stroke-opacity: 1; stroke-width: 1px;\"/></g><g class=\"y\"><path class=\"ygrid crisp\" transform=\"translate(0,315.4)\" d=\"M80,0h540\" style=\"stroke: rgb(255, 255, 255); stroke-opacity: 1; stroke-width: 1px;\"/><path class=\"ygrid crisp\" transform=\"translate(0,266.28999999999996)\" d=\"M80,0h540\" style=\"stroke: rgb(255, 255, 255); stroke-opacity: 1; stroke-width: 1px;\"/><path class=\"ygrid crisp\" transform=\"translate(0,217.18)\" d=\"M80,0h540\" style=\"stroke: rgb(255, 255, 255); stroke-opacity: 1; stroke-width: 1px;\"/><path class=\"ygrid crisp\" transform=\"translate(0,168.06)\" d=\"M80,0h540\" style=\"stroke: rgb(255, 255, 255); stroke-opacity: 1; stroke-width: 1px;\"/><path class=\"ygrid crisp\" transform=\"translate(0,118.95)\" d=\"M80,0h540\" style=\"stroke: rgb(255, 255, 255); stroke-opacity: 1; stroke-width: 1px;\"/><path class=\"ygrid crisp\" transform=\"translate(0,69.84)\" d=\"M80,0h540\" style=\"stroke: rgb(255, 255, 255); stroke-opacity: 1; stroke-width: 1px;\"/></g></g><g class=\"zerolinelayer\"><path class=\"xzl zl crisp\" transform=\"translate(103.47,0)\" d=\"M0,60v310\" style=\"stroke: rgb(255, 255, 255); stroke-opacity: 1; stroke-width: 1px;\"/><path class=\"yzl zl crisp\" transform=\"translate(0,364.51)\" d=\"M80,0h540\" style=\"stroke: rgb(255, 255, 255); stroke-opacity: 1; stroke-width: 1px;\"/></g><path class=\"xlines-below\"/><path class=\"ylines-below\"/><g class=\"overlines-below\"/><g class=\"xaxislayer-below\"/><g class=\"yaxislayer-below\"/><g class=\"overaxes-below\"/><g class=\"plot\" transform=\"translate(80, 60)\" clip-path=\"url('#clip5e0226xyplot')\"><g class=\"scatterlayer mlayer\"><g class=\"trace scatter trace96cca8\" style=\"stroke-miterlimit: 2; opacity: 1;\"><g class=\"fills\"/><g class=\"errorbars\"/><g class=\"lines\"/><g class=\"points\"><path class=\"point\" transform=\"translate(155.38,213.26)\" d=\"M3,0A3,3 0 1,1 0,-3A3,3 0 0,1 3,0Z\" style=\"opacity: 1; stroke-width: 0px; fill: rgb(76, 114, 176); fill-opacity: 1;\"/><path class=\"point\" transform=\"translate(334.19,110.99)\" d=\"M3,0A3,3 0 1,1 0,-3A3,3 0 0,1 3,0Z\" style=\"opacity: 1; stroke-width: 0px; fill: rgb(76, 114, 176); fill-opacity: 1;\"/><path class=\"point\" transform=\"translate(200.88,192.96)\" d=\"M3,0A3,3 0 1,1 0,-3A3,3 0 0,1 3,0Z\" style=\"opacity: 1; stroke-width: 0px; fill: rgb(76, 114, 176); fill-opacity: 1;\"/><path class=\"point\" transform=\"translate(145.86,220.94)\" d=\"M3,0A3,3 0 1,1 0,-3A3,3 0 0,1 3,0Z\" style=\"opacity: 1; stroke-width: 0px; fill: rgb(76, 114, 176); fill-opacity: 1;\"/><path class=\"point\" transform=\"translate(150.72,201.53)\" d=\"M3,0A3,3 0 1,1 0,-3A3,3 0 0,1 3,0Z\" style=\"opacity: 1; stroke-width: 0px; fill: rgb(76, 114, 176); fill-opacity: 1;\"/><path class=\"point\" transform=\"translate(345.21,118.37)\" d=\"M3,0A3,3 0 1,1 0,-3A3,3 0 0,1 3,0Z\" style=\"opacity: 1; stroke-width: 0px; fill: rgb(76, 114, 176); fill-opacity: 1;\"/><path class=\"point\" transform=\"translate(380.38,99.95)\" d=\"M3,0A3,3 0 1,1 0,-3A3,3 0 0,1 3,0Z\" style=\"opacity: 1; stroke-width: 0px; fill: rgb(76, 114, 176); fill-opacity: 1;\"/><path class=\"point\" transform=\"translate(339.38,113.62)\" d=\"M3,0A3,3 0 1,1 0,-3A3,3 0 0,1 3,0Z\" style=\"opacity: 1; stroke-width: 0px; fill: rgb(76, 114, 176); fill-opacity: 1;\"/><path class=\"point\" transform=\"translate(302.57,275.11)\" d=\"M3,0A3,3 0 1,1 0,-3A3,3 0 0,1 3,0Z\" style=\"opacity: 1; stroke-width: 0px; fill: rgb(76, 114, 176); fill-opacity: 1;\"/><path class=\"point\" transform=\"translate(94.35,228.53)\" d=\"M3,0A3,3 0 1,1 0,-3A3,3 0 0,1 3,0Z\" style=\"opacity: 1; stroke-width: 0px; fill: rgb(76, 114, 176); fill-opacity: 1;\"/><path class=\"point\" transform=\"translate(441.62,56.44)\" d=\"M3,0A3,3 0 1,1 0,-3A3,3 0 0,1 3,0Z\" style=\"opacity: 1; stroke-width: 0px; fill: rgb(76, 114, 176); fill-opacity: 1;\"/><path class=\"point\" transform=\"translate(464.75,45.18)\" d=\"M3,0A3,3 0 1,1 0,-3A3,3 0 0,1 3,0Z\" style=\"opacity: 1; stroke-width: 0px; fill: rgb(76, 114, 176); fill-opacity: 1;\"/><path class=\"point\" transform=\"translate(419.25,65.6)\" d=\"M3,0A3,3 0 1,1 0,-3A3,3 0 0,1 3,0Z\" style=\"opacity: 1; stroke-width: 0px; fill: rgb(76, 114, 176); fill-opacity: 1;\"/><path class=\"point\" transform=\"translate(136.71,219.68)\" d=\"M3,0A3,3 0 1,1 0,-3A3,3 0 0,1 3,0Z\" style=\"opacity: 1; stroke-width: 0px; fill: rgb(76, 114, 176); fill-opacity: 1;\"/><path class=\"point\" transform=\"translate(51.42,266.14)\" d=\"M3,0A3,3 0 1,1 0,-3A3,3 0 0,1 3,0Z\" style=\"opacity: 1; stroke-width: 0px; fill: rgb(76, 114, 176); fill-opacity: 1;\"/><path class=\"point\" transform=\"translate(436.49,76.01)\" d=\"M3,0A3,3 0 1,1 0,-3A3,3 0 0,1 3,0Z\" style=\"opacity: 1; stroke-width: 0px; fill: rgb(76, 114, 176); fill-opacity: 1;\"/><path class=\"point\" transform=\"translate(466.73,60.28)\" d=\"M3,0A3,3 0 1,1 0,-3A3,3 0 0,1 3,0Z\" style=\"opacity: 1; stroke-width: 0px; fill: rgb(76, 114, 176); fill-opacity: 1;\"/><path class=\"point\" transform=\"translate(472.48,38.87)\" d=\"M3,0A3,3 0 1,1 0,-3A3,3 0 0,1 3,0Z\" style=\"opacity: 1; stroke-width: 0px; fill: rgb(76, 114, 176); fill-opacity: 1;\"/><path class=\"point\" transform=\"translate(269.52,156.1)\" d=\"M3,0A3,3 0 1,1 0,-3A3,3 0 0,1 3,0Z\" style=\"opacity: 1; stroke-width: 0px; fill: rgb(76, 114, 176); fill-opacity: 1;\"/><path class=\"point\" transform=\"translate(171.6,199.92)\" d=\"M3,0A3,3 0 1,1 0,-3A3,3 0 0,1 3,0Z\" style=\"opacity: 1; stroke-width: 0px; fill: rgb(76, 114, 176); fill-opacity: 1;\"/><path class=\"point\" transform=\"translate(247.82,141.06)\" d=\"M3,0A3,3 0 1,1 0,-3A3,3 0 0,1 3,0Z\" style=\"opacity: 1; stroke-width: 0px; fill: rgb(76, 114, 176); fill-opacity: 1;\"/><path class=\"point\" transform=\"translate(499.7,44.25)\" d=\"M3,0A3,3 0 1,1 0,-3A3,3 0 0,1 3,0Z\" style=\"opacity: 1; stroke-width: 0px; fill: rgb(76, 114, 176); fill-opacity: 1;\"/><path class=\"point\" transform=\"translate(173.63,198.98)\" d=\"M3,0A3,3 0 1,1 0,-3A3,3 0 0,1 3,0Z\" style=\"opacity: 1; stroke-width: 0px; fill: rgb(76, 114, 176); fill-opacity: 1;\"/><path class=\"point\" transform=\"translate(409.91,76.37)\" d=\"M3,0A3,3 0 1,1 0,-3A3,3 0 0,1 3,0Z\" style=\"opacity: 1; stroke-width: 0px; fill: rgb(76, 114, 176); fill-opacity: 1;\"/><path class=\"point\" transform=\"translate(139.3,206.44)\" d=\"M3,0A3,3 0 1,1 0,-3A3,3 0 0,1 3,0Z\" style=\"opacity: 1; stroke-width: 0px; fill: rgb(76, 114, 176); fill-opacity: 1;\"/><path class=\"point\" transform=\"translate(394.47,77.46)\" d=\"M3,0A3,3 0 1,1 0,-3A3,3 0 0,1 3,0Z\" style=\"opacity: 1; stroke-width: 0px; fill: rgb(76, 114, 176); fill-opacity: 1;\"/><path class=\"point\" transform=\"translate(30.75,267.73)\" d=\"M3,0A3,3 0 1,1 0,-3A3,3 0 0,1 3,0Z\" style=\"opacity: 1; stroke-width: 0px; fill: rgb(76, 114, 176); fill-opacity: 1;\"/><path class=\"point\" transform=\"translate(509.25,19.25)\" d=\"M3,0A3,3 0 1,1 0,-3A3,3 0 0,1 3,0Z\" style=\"opacity: 1; stroke-width: 0px; fill: rgb(76, 114, 176); fill-opacity: 1;\"/><path class=\"point\" transform=\"translate(302.57,273.78)\" d=\"M3,0A3,3 0 1,1 0,-3A3,3 0 0,1 3,0Z\" style=\"opacity: 1; stroke-width: 0px; fill: rgb(76, 114, 176); fill-opacity: 1;\"/><path class=\"point\" transform=\"translate(497.66,27.85)\" d=\"M3,0A3,3 0 1,1 0,-3A3,3 0 0,1 3,0Z\" style=\"opacity: 1; stroke-width: 0px; fill: rgb(76, 114, 176); fill-opacity: 1;\"/><path class=\"point\" transform=\"translate(395.13,80.12)\" d=\"M3,0A3,3 0 1,1 0,-3A3,3 0 0,1 3,0Z\" style=\"opacity: 1; stroke-width: 0px; fill: rgb(76, 114, 176); fill-opacity: 1;\"/><path class=\"point\" transform=\"translate(241.96,176.58)\" d=\"M3,0A3,3 0 1,1 0,-3A3,3 0 0,1 3,0Z\" style=\"opacity: 1; stroke-width: 0px; fill: rgb(76, 114, 176); fill-opacity: 1;\"/><path class=\"point\" transform=\"translate(67.53,254.73)\" d=\"M3,0A3,3 0 1,1 0,-3A3,3 0 0,1 3,0Z\" style=\"opacity: 1; stroke-width: 0px; fill: rgb(76, 114, 176); fill-opacity: 1;\"/><path class=\"point\" transform=\"translate(359.45,120.96)\" d=\"M3,0A3,3 0 1,1 0,-3A3,3 0 0,1 3,0Z\" style=\"opacity: 1; stroke-width: 0px; fill: rgb(76, 114, 176); fill-opacity: 1;\"/><path class=\"point\" transform=\"translate(248.07,176.88)\" d=\"M3,0A3,3 0 1,1 0,-3A3,3 0 0,1 3,0Z\" style=\"opacity: 1; stroke-width: 0px; fill: rgb(76, 114, 176); fill-opacity: 1;\"/><path class=\"point\" transform=\"translate(439.08,64)\" d=\"M3,0A3,3 0 1,1 0,-3A3,3 0 0,1 3,0Z\" style=\"opacity: 1; stroke-width: 0px; fill: rgb(76, 114, 176); fill-opacity: 1;\"/><path class=\"point\" transform=\"translate(435.63,81.81)\" d=\"M3,0A3,3 0 1,1 0,-3A3,3 0 0,1 3,0Z\" style=\"opacity: 1; stroke-width: 0px; fill: rgb(76, 114, 176); fill-opacity: 1;\"/><path class=\"point\" transform=\"translate(315.98,273.65)\" d=\"M3,0A3,3 0 1,1 0,-3A3,3 0 0,1 3,0Z\" style=\"opacity: 1; stroke-width: 0px; fill: rgb(76, 114, 176); fill-opacity: 1;\"/><path class=\"point\" transform=\"translate(50.47,277.98)\" d=\"M3,0A3,3 0 1,1 0,-3A3,3 0 0,1 3,0Z\" style=\"opacity: 1; stroke-width: 0px; fill: rgb(76, 114, 176); fill-opacity: 1;\"/><path class=\"point\" transform=\"translate(225.19,173.28)\" d=\"M3,0A3,3 0 1,1 0,-3A3,3 0 0,1 3,0Z\" style=\"opacity: 1; stroke-width: 0px; fill: rgb(76, 114, 176); fill-opacity: 1;\"/><path class=\"point\" transform=\"translate(501.47,32.26)\" d=\"M3,0A3,3 0 1,1 0,-3A3,3 0 0,1 3,0Z\" style=\"opacity: 1; stroke-width: 0px; fill: rgb(76, 114, 176); fill-opacity: 1;\"/><path class=\"point\" transform=\"translate(233.34,185.02)\" d=\"M3,0A3,3 0 1,1 0,-3A3,3 0 0,1 3,0Z\" style=\"opacity: 1; stroke-width: 0px; fill: rgb(76, 114, 176); fill-opacity: 1;\"/><path class=\"point\" transform=\"translate(337.02,132.16)\" d=\"M3,0A3,3 0 1,1 0,-3A3,3 0 0,1 3,0Z\" style=\"opacity: 1; stroke-width: 0px; fill: rgb(76, 114, 176); fill-opacity: 1;\"/><path class=\"point\" transform=\"translate(414.53,80.33)\" d=\"M3,0A3,3 0 1,1 0,-3A3,3 0 0,1 3,0Z\" style=\"opacity: 1; stroke-width: 0px; fill: rgb(76, 114, 176); fill-opacity: 1;\"/><path class=\"point\" transform=\"translate(492.59,149.77)\" d=\"M3,0A3,3 0 1,1 0,-3A3,3 0 0,1 3,0Z\" style=\"opacity: 1; stroke-width: 0px; fill: rgb(76, 114, 176); fill-opacity: 1;\"/><path class=\"point\" transform=\"translate(339.29,118.44)\" d=\"M3,0A3,3 0 1,1 0,-3A3,3 0 0,1 3,0Z\" style=\"opacity: 1; stroke-width: 0px; fill: rgb(76, 114, 176); fill-opacity: 1;\"/><path class=\"point\" transform=\"translate(246.67,164.59)\" d=\"M3,0A3,3 0 1,1 0,-3A3,3 0 0,1 3,0Z\" style=\"opacity: 1; stroke-width: 0px; fill: rgb(76, 114, 176); fill-opacity: 1;\"/><path class=\"point\" transform=\"translate(415.22,79.26)\" d=\"M3,0A3,3 0 1,1 0,-3A3,3 0 0,1 3,0Z\" style=\"opacity: 1; stroke-width: 0px; fill: rgb(76, 114, 176); fill-opacity: 1;\"/><path class=\"point\" transform=\"translate(266.96,152.03)\" d=\"M3,0A3,3 0 1,1 0,-3A3,3 0 0,1 3,0Z\" style=\"opacity: 1; stroke-width: 0px; fill: rgb(76, 114, 176); fill-opacity: 1;\"/><path class=\"point\" transform=\"translate(197.19,191.24)\" d=\"M3,0A3,3 0 1,1 0,-3A3,3 0 0,1 3,0Z\" style=\"opacity: 1; stroke-width: 0px; fill: rgb(76, 114, 176); fill-opacity: 1;\"/><path class=\"point\" transform=\"translate(375.58,149.77)\" d=\"M3,0A3,3 0 1,1 0,-3A3,3 0 0,1 3,0Z\" style=\"opacity: 1; stroke-width: 0px; fill: rgb(76, 114, 176); fill-opacity: 1;\"/><path class=\"point\" transform=\"translate(197.34,188.08)\" d=\"M3,0A3,3 0 1,1 0,-3A3,3 0 0,1 3,0Z\" style=\"opacity: 1; stroke-width: 0px; fill: rgb(76, 114, 176); fill-opacity: 1;\"/><path class=\"point\" transform=\"translate(468.32,51.92)\" d=\"M3,0A3,3 0 1,1 0,-3A3,3 0 0,1 3,0Z\" style=\"opacity: 1; stroke-width: 0px; fill: rgb(76, 114, 176); fill-opacity: 1;\"/><path class=\"point\" transform=\"translate(315.98,279.35)\" d=\"M3,0A3,3 0 1,1 0,-3A3,3 0 0,1 3,0Z\" style=\"opacity: 1; stroke-width: 0px; fill: rgb(76, 114, 176); fill-opacity: 1;\"/><path class=\"point\" transform=\"translate(324.61,136.11)\" d=\"M3,0A3,3 0 1,1 0,-3A3,3 0 0,1 3,0Z\" style=\"opacity: 1; stroke-width: 0px; fill: rgb(76, 114, 176); fill-opacity: 1;\"/><path class=\"point\" transform=\"translate(397.17,101.67)\" d=\"M3,0A3,3 0 1,1 0,-3A3,3 0 0,1 3,0Z\" style=\"opacity: 1; stroke-width: 0px; fill: rgb(76, 114, 176); fill-opacity: 1;\"/><path class=\"point\" transform=\"translate(474.54,63.42)\" d=\"M3,0A3,3 0 1,1 0,-3A3,3 0 0,1 3,0Z\" style=\"opacity: 1; stroke-width: 0px; fill: rgb(76, 114, 176); fill-opacity: 1;\"/><path class=\"point\" transform=\"translate(269.04,151.28)\" d=\"M3,0A3,3 0 1,1 0,-3A3,3 0 0,1 3,0Z\" style=\"opacity: 1; stroke-width: 0px; fill: rgb(76, 114, 176); fill-opacity: 1;\"/><path class=\"point\" transform=\"translate(197.21,186.91)\" d=\"M3,0A3,3 0 1,1 0,-3A3,3 0 0,1 3,0Z\" style=\"opacity: 1; stroke-width: 0px; fill: rgb(76, 114, 176); fill-opacity: 1;\"/><path class=\"point\" transform=\"translate(275.24,164.59)\" d=\"M3,0A3,3 0 1,1 0,-3A3,3 0 0,1 3,0Z\" style=\"opacity: 1; stroke-width: 0px; fill: rgb(76, 114, 176); fill-opacity: 1;\"/><path class=\"point\" transform=\"translate(460.49,68.43)\" d=\"M3,0A3,3 0 1,1 0,-3A3,3 0 0,1 3,0Z\" style=\"opacity: 1; stroke-width: 0px; fill: rgb(76, 114, 176); fill-opacity: 1;\"/><path class=\"point\" transform=\"translate(200.42,190.77)\" d=\"M3,0A3,3 0 1,1 0,-3A3,3 0 0,1 3,0Z\" style=\"opacity: 1; stroke-width: 0px; fill: rgb(76, 114, 176); fill-opacity: 1;\"/><path class=\"point\" transform=\"translate(144.23,230.53)\" d=\"M3,0A3,3 0 1,1 0,-3A3,3 0 0,1 3,0Z\" style=\"opacity: 1; stroke-width: 0px; fill: rgb(76, 114, 176); fill-opacity: 1;\"/><path class=\"point\" transform=\"translate(320.63,125.82)\" d=\"M3,0A3,3 0 1,1 0,-3A3,3 0 0,1 3,0Z\" style=\"opacity: 1; stroke-width: 0px; fill: rgb(76, 114, 176); fill-opacity: 1;\"/><path class=\"point\" transform=\"translate(334.7,131.12)\" d=\"M3,0A3,3 0 1,1 0,-3A3,3 0 0,1 3,0Z\" style=\"opacity: 1; stroke-width: 0px; fill: rgb(76, 114, 176); fill-opacity: 1;\"/><path class=\"point\" transform=\"translate(361.05,109.21)\" d=\"M3,0A3,3 0 1,1 0,-3A3,3 0 0,1 3,0Z\" style=\"opacity: 1; stroke-width: 0px; fill: rgb(76, 114, 176); fill-opacity: 1;\"/><path class=\"point\" transform=\"translate(500.55,51.55)\" d=\"M3,0A3,3 0 1,1 0,-3A3,3 0 0,1 3,0Z\" style=\"opacity: 1; stroke-width: 0px; fill: rgb(76, 114, 176); fill-opacity: 1;\"/><path class=\"point\" transform=\"translate(438.64,131.51)\" d=\"M3,0A3,3 0 1,1 0,-3A3,3 0 0,1 3,0Z\" style=\"opacity: 1; stroke-width: 0px; fill: rgb(76, 114, 176); fill-opacity: 1;\"/><path class=\"point\" transform=\"translate(503.88,36.63)\" d=\"M3,0A3,3 0 1,1 0,-3A3,3 0 0,1 3,0Z\" style=\"opacity: 1; stroke-width: 0px; fill: rgb(76, 114, 176); fill-opacity: 1;\"/><path class=\"point\" transform=\"translate(325.19,133.19)\" d=\"M3,0A3,3 0 1,1 0,-3A3,3 0 0,1 3,0Z\" style=\"opacity: 1; stroke-width: 0px; fill: rgb(76, 114, 176); fill-opacity: 1;\"/><path class=\"point\" transform=\"translate(377.75,98.48)\" d=\"M3,0A3,3 0 1,1 0,-3A3,3 0 0,1 3,0Z\" style=\"opacity: 1; stroke-width: 0px; fill: rgb(76, 114, 176); fill-opacity: 1;\"/><path class=\"point\" transform=\"translate(482.83,64.4)\" d=\"M3,0A3,3 0 1,1 0,-3A3,3 0 0,1 3,0Z\" style=\"opacity: 1; stroke-width: 0px; fill: rgb(76, 114, 176); fill-opacity: 1;\"/><path class=\"point\" transform=\"translate(120.87,227.13)\" d=\"M3,0A3,3 0 1,1 0,-3A3,3 0 0,1 3,0Z\" style=\"opacity: 1; stroke-width: 0px; fill: rgb(76, 114, 176); fill-opacity: 1;\"/><path class=\"point\" transform=\"translate(482.33,51.26)\" d=\"M3,0A3,3 0 1,1 0,-3A3,3 0 0,1 3,0Z\" style=\"opacity: 1; stroke-width: 0px; fill: rgb(76, 114, 176); fill-opacity: 1;\"/><path class=\"point\" transform=\"translate(411.57,94.16)\" d=\"M3,0A3,3 0 1,1 0,-3A3,3 0 0,1 3,0Z\" style=\"opacity: 1; stroke-width: 0px; fill: rgb(76, 114, 176); fill-opacity: 1;\"/><path class=\"point\" transform=\"translate(379.46,92.86)\" d=\"M3,0A3,3 0 1,1 0,-3A3,3 0 0,1 3,0Z\" style=\"opacity: 1; stroke-width: 0px; fill: rgb(76, 114, 176); fill-opacity: 1;\"/><path class=\"point\" transform=\"translate(242.42,185.88)\" d=\"M3,0A3,3 0 1,1 0,-3A3,3 0 0,1 3,0Z\" style=\"opacity: 1; stroke-width: 0px; fill: rgb(76, 114, 176); fill-opacity: 1;\"/><path class=\"point\" transform=\"translate(248.5,131.51)\" d=\"M3,0A3,3 0 1,1 0,-3A3,3 0 0,1 3,0Z\" style=\"opacity: 1; stroke-width: 0px; fill: rgb(76, 114, 176); fill-opacity: 1;\"/><path class=\"point\" transform=\"translate(110.51,245.94)\" d=\"M3,0A3,3 0 1,1 0,-3A3,3 0 0,1 3,0Z\" style=\"opacity: 1; stroke-width: 0px; fill: rgb(76, 114, 176); fill-opacity: 1;\"/><path class=\"point\" transform=\"translate(419.24,79.4)\" d=\"M3,0A3,3 0 1,1 0,-3A3,3 0 0,1 3,0Z\" style=\"opacity: 1; stroke-width: 0px; fill: rgb(76, 114, 176); fill-opacity: 1;\"/><path class=\"point\" transform=\"translate(210.34,180.26)\" d=\"M3,0A3,3 0 1,1 0,-3A3,3 0 0,1 3,0Z\" style=\"opacity: 1; stroke-width: 0px; fill: rgb(76, 114, 176); fill-opacity: 1;\"/><path class=\"point\" transform=\"translate(281.08,147.86)\" d=\"M3,0A3,3 0 1,1 0,-3A3,3 0 0,1 3,0Z\" style=\"opacity: 1; stroke-width: 0px; fill: rgb(76, 114, 176); fill-opacity: 1;\"/><path class=\"point\" transform=\"translate(440.6,71.6)\" d=\"M3,0A3,3 0 1,1 0,-3A3,3 0 0,1 3,0Z\" style=\"opacity: 1; stroke-width: 0px; fill: rgb(76, 114, 176); fill-opacity: 1;\"/><path class=\"point\" transform=\"translate(335.44,290.75)\" d=\"M3,0A3,3 0 1,1 0,-3A3,3 0 0,1 3,0Z\" style=\"opacity: 1; stroke-width: 0px; fill: rgb(76, 114, 176); fill-opacity: 1;\"/><path class=\"point\" transform=\"translate(232.14,172.57)\" d=\"M3,0A3,3 0 1,1 0,-3A3,3 0 0,1 3,0Z\" style=\"opacity: 1; stroke-width: 0px; fill: rgb(76, 114, 176); fill-opacity: 1;\"/><path class=\"point\" transform=\"translate(139.37,220.46)\" d=\"M3,0A3,3 0 1,1 0,-3A3,3 0 0,1 3,0Z\" style=\"opacity: 1; stroke-width: 0px; fill: rgb(76, 114, 176); fill-opacity: 1;\"/><path class=\"point\" transform=\"translate(466.01,50.33)\" d=\"M3,0A3,3 0 1,1 0,-3A3,3 0 0,1 3,0Z\" style=\"opacity: 1; stroke-width: 0px; fill: rgb(76, 114, 176); fill-opacity: 1;\"/><path class=\"point\" transform=\"translate(368.62,121.83)\" d=\"M3,0A3,3 0 1,1 0,-3A3,3 0 0,1 3,0Z\" style=\"opacity: 1; stroke-width: 0px; fill: rgb(76, 114, 176); fill-opacity: 1;\"/><path class=\"point\" transform=\"translate(278.99,148.76)\" d=\"M3,0A3,3 0 1,1 0,-3A3,3 0 0,1 3,0Z\" style=\"opacity: 1; stroke-width: 0px; fill: rgb(76, 114, 176); fill-opacity: 1;\"/><path class=\"point\" transform=\"translate(505.47,28.03)\" d=\"M3,0A3,3 0 1,1 0,-3A3,3 0 0,1 3,0Z\" style=\"opacity: 1; stroke-width: 0px; fill: rgb(76, 114, 176); fill-opacity: 1;\"/></g><g class=\"text\"/></g><g class=\"trace scatter trace2ce113\" style=\"stroke-miterlimit: 2; opacity: 1;\"><g class=\"fills\"/><g class=\"errorbars\"/><g class=\"lines\"><path class=\"js-line\" d=\"M30.75,279.59L509.25,47.91\" style=\"vector-effect: non-scaling-stroke; fill: none; stroke: rgb(76, 114, 176); stroke-opacity: 1; stroke-width: 2px; opacity: 1;\"/></g><g class=\"points\"/><g class=\"text\"/></g></g></g><g class=\"overplot\"/><path class=\"xlines-above crisp\" d=\"M0,0\" style=\"fill: none;\"/><path class=\"ylines-above crisp\" d=\"M0,0\" style=\"fill: none;\"/><g class=\"overlines-above\"/><g class=\"xaxislayer-above\"><g class=\"xtick\"><text text-anchor=\"middle\" x=\"0\" y=\"383\" transform=\"translate(103.47,0)\" style=\"font-family: 'Open Sans', verdana, arial, sans-serif; font-size: 12px; fill: rgb(36, 36, 36); fill-opacity: 1; white-space: pre;\">0</text></g><g class=\"xtick\"><text text-anchor=\"middle\" x=\"0\" y=\"383\" transform=\"translate(200.82,0)\" style=\"font-family: 'Open Sans', verdana, arial, sans-serif; font-size: 12px; fill: rgb(36, 36, 36); fill-opacity: 1; white-space: pre;\">200</text></g><g class=\"xtick\"><text text-anchor=\"middle\" x=\"0\" y=\"383\" transform=\"translate(298.18,0)\" style=\"font-family: 'Open Sans', verdana, arial, sans-serif; font-size: 12px; fill: rgb(36, 36, 36); fill-opacity: 1; white-space: pre;\">400</text></g><g class=\"xtick\"><text text-anchor=\"middle\" x=\"0\" y=\"383\" transform=\"translate(395.54,0)\" style=\"font-family: 'Open Sans', verdana, arial, sans-serif; font-size: 12px; fill: rgb(36, 36, 36); fill-opacity: 1; white-space: pre;\">600</text></g><g class=\"xtick\"><text text-anchor=\"middle\" x=\"0\" y=\"383\" transform=\"translate(492.89,0)\" style=\"font-family: 'Open Sans', verdana, arial, sans-serif; font-size: 12px; fill: rgb(36, 36, 36); fill-opacity: 1; white-space: pre;\">800</text></g><g class=\"xtick\"><text text-anchor=\"middle\" x=\"0\" y=\"383\" transform=\"translate(590.25,0)\" style=\"font-family: 'Open Sans', verdana, arial, sans-serif; font-size: 12px; fill: rgb(36, 36, 36); fill-opacity: 1; white-space: pre;\">1000</text></g></g><g class=\"yaxislayer-above\"><g class=\"ytick\"><text text-anchor=\"end\" x=\"79\" y=\"4.199999999999999\" transform=\"translate(0,364.51)\" style=\"font-family: 'Open Sans', verdana, arial, sans-serif; font-size: 12px; fill: rgb(36, 36, 36); fill-opacity: 1; white-space: pre;\">0</text></g><g class=\"ytick\"><text text-anchor=\"end\" x=\"79\" y=\"4.199999999999999\" transform=\"translate(0,315.4)\" style=\"font-family: 'Open Sans', verdana, arial, sans-serif; font-size: 12px; fill: rgb(36, 36, 36); fill-opacity: 1; white-space: pre;\">200</text></g><g class=\"ytick\"><text text-anchor=\"end\" x=\"79\" y=\"4.199999999999999\" transform=\"translate(0,266.28999999999996)\" style=\"font-family: 'Open Sans', verdana, arial, sans-serif; font-size: 12px; fill: rgb(36, 36, 36); fill-opacity: 1; white-space: pre;\">400</text></g><g class=\"ytick\"><text text-anchor=\"end\" x=\"79\" y=\"4.199999999999999\" transform=\"translate(0,217.18)\" style=\"font-family: 'Open Sans', verdana, arial, sans-serif; font-size: 12px; fill: rgb(36, 36, 36); fill-opacity: 1; white-space: pre;\">600</text></g><g class=\"ytick\"><text text-anchor=\"end\" x=\"79\" y=\"4.199999999999999\" transform=\"translate(0,168.06)\" style=\"font-family: 'Open Sans', verdana, arial, sans-serif; font-size: 12px; fill: rgb(36, 36, 36); fill-opacity: 1; white-space: pre;\">800</text></g><g class=\"ytick\"><text text-anchor=\"end\" x=\"79\" y=\"4.199999999999999\" transform=\"translate(0,118.95)\" style=\"font-family: 'Open Sans', verdana, arial, sans-serif; font-size: 12px; fill: rgb(36, 36, 36); fill-opacity: 1; white-space: pre;\">1000</text></g><g class=\"ytick\"><text text-anchor=\"end\" x=\"79\" y=\"4.199999999999999\" transform=\"translate(0,69.84)\" style=\"font-family: 'Open Sans', verdana, arial, sans-serif; font-size: 12px; fill: rgb(36, 36, 36); fill-opacity: 1; white-space: pre;\">1200</text></g></g><g class=\"overaxes-above\"/></g></g><g class=\"polarlayer\"/><g class=\"ternarylayer\"/><g class=\"geolayer\"/><g class=\"funnelarealayer\"/><g class=\"pielayer\"/><g class=\"treemaplayer\"/><g class=\"sunburstlayer\"/><g class=\"glimages\"/><defs id=\"topdefs-5e0226\"><g class=\"clips\"/></defs><g class=\"layer-above\"><g class=\"imagelayer\"/><g class=\"shapelayer\"/></g><g class=\"infolayer\"><g class=\"g-gtitle\"/><g class=\"g-xtitle\"><text class=\"xtitle\" x=\"350\" y=\"410.20625\" text-anchor=\"middle\" style=\"font-family: 'Open Sans', verdana, arial, sans-serif; font-size: 14px; fill: rgb(36, 36, 36); opacity: 1; font-weight: normal; white-space: pre;\">productA</text></g><g class=\"g-ytitle\"><text class=\"ytitle\" transform=\"rotate(-90,23.684375000000003,215)\" x=\"23.684375000000003\" y=\"215\" text-anchor=\"middle\" style=\"font-family: 'Open Sans', verdana, arial, sans-serif; font-size: 14px; fill: rgb(36, 36, 36); opacity: 1; font-weight: normal; white-space: pre;\">productB</text></g></g></svg>"
      ]
     },
     "metadata": {},
     "output_type": "display_data"
    },
    {
     "name": "stdout",
     "output_type": "stream",
     "text": [
      "0.7553285500877487\n"
     ]
    },
    {
     "data": {
      "text/plain": [
       "array([1253.44720289])"
      ]
     },
     "execution_count": 95,
     "metadata": {},
     "output_type": "execute_result"
    }
   ],
   "source": [
    "data_full = pd.concat([data[0],data[1],data[2]])\n",
    "data_full.dropna(inplace=True)\n",
    "lig = px.scatter(data_full,x='productA',y='productB',template='seaborn',trendline=\"ols\")\n",
    "lig.show(renderer='svg')\n",
    "X=data_full['productA'].values.reshape(-1,1)\n",
    "y=data_full['productB']\n",
    "X_train, X_test, y_train, y_test = train_test_split(X, y,random_state=1,test_size=0.75)\n",
    "model = LinearRegression()\n",
    "model.fit(X_train,y_train)\n",
    "print(model.score(X_test,y_test))\n",
    "model.predict(1200)"
   ]
  }
 ],
 "metadata": {
  "anaconda-cloud": {},
  "kernelspec": {
   "display_name": "Python 3",
   "language": "python",
   "name": "python3"
  },
  "language_info": {
   "codemirror_mode": {
    "name": "ipython",
    "version": 3
   },
   "file_extension": ".py",
   "mimetype": "text/x-python",
   "name": "python",
   "nbconvert_exporter": "python",
   "pygments_lexer": "ipython3",
   "version": "3.7.0"
  },
  "toc": {
   "base_numbering": 1,
   "nav_menu": {},
   "number_sections": true,
   "sideBar": true,
   "skip_h1_title": false,
   "title_cell": "Table of Contents",
   "title_sidebar": "Contents",
   "toc_cell": false,
   "toc_position": {},
   "toc_section_display": true,
   "toc_window_display": false
  }
 },
 "nbformat": 4,
 "nbformat_minor": 1
}
